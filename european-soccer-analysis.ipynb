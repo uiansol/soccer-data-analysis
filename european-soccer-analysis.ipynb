{
 "cells": [
  {
   "cell_type": "markdown",
   "metadata": {},
   "source": [
    "# Curiosities of European Soccer\n",
    "\n",
    "## Table of Contents\n",
    "<ul>\n",
    "<li><a href=\"#intro\">Introduction</a></li>\n",
    "<li><a href=\"#wrangling\">Data Wrangling</a></li>\n",
    "<li><a href=\"#eda\">Exploratory Data Analysis</a></li>\n",
    "<li><a href=\"#conclusions\">Conclusions</a></li>\n",
    "</ul>"
   ]
  },
  {
   "cell_type": "markdown",
   "metadata": {},
   "source": [
    "<a id='intro'></a>\n",
    "## Introduction\n",
    "\n",
    "This data set from Kaggle brings data of soccer from european leagues, teams and players from 2008 to 2016.\n",
    "* +25,000 matches\n",
    "* +10,000 players\n",
    "* 11 European Countries with their lead championship\n",
    "\n",
    "Some question we will try to answer here in this work:\n",
    "\n",
    "<ul>\n",
    "<li><a href=\"#question1\">1. Who are the best players on Europe (better rating)?</a></li>\n",
    "<li><a href=\"#question2\">2. Who are the players with higher aggression rating?</a></li>\n",
    "<li><a href=\"#question3\">3. Is the player rating related to agressiveness?</a></li>\n",
    "<li><a href=\"#question4\">4. How the players are distributed by their physical form (measured by the Body Mass Index).</a></li>\n",
    "<li><a href=\"#question5\">5. Teams playing at home won more matchs?</a></li>\n",
    "<li><a href=\"#question6\">6. What teams attributes have correlation with victory when playing at home?</a></li>\n",
    "</ul>"
   ]
  },
  {
   "cell_type": "markdown",
   "metadata": {},
   "source": [
    "Import libs used."
   ]
  },
  {
   "cell_type": "code",
   "execution_count": 1,
   "metadata": {},
   "outputs": [],
   "source": [
    "import pandas as pd\n",
    "import numpy as np\n",
    "import matplotlib.pyplot as plt\n",
    "import seaborn as sns\n",
    "import sqlite3\n",
    "%matplotlib inline"
   ]
  },
  {
   "cell_type": "markdown",
   "metadata": {},
   "source": [
    "<a id='wrangling'></a>\n",
    "## Data Wrangling\n",
    "\n",
    "### General Properties"
   ]
  },
  {
   "cell_type": "markdown",
   "metadata": {},
   "source": [
    "Load data for Players from database.sqlite witch is in the same folder of the notebook.\n",
    "The columns 'overall_rating' and 'penalties' will be used to answer some questions."
   ]
  },
  {
   "cell_type": "code",
   "execution_count": 2,
   "metadata": {},
   "outputs": [],
   "source": [
    "# A function to load data from DB.\n",
    "def load_data(query):\n",
    "    with sqlite3.connect('database.sqlite') as con:\n",
    "        df = pd.read_sql_query(query, con)\n",
    "    \n",
    "    return df"
   ]
  },
  {
   "cell_type": "code",
   "execution_count": 3,
   "metadata": {},
   "outputs": [
    {
     "data": {
      "text/html": [
       "<div>\n",
       "<style scoped>\n",
       "    .dataframe tbody tr th:only-of-type {\n",
       "        vertical-align: middle;\n",
       "    }\n",
       "\n",
       "    .dataframe tbody tr th {\n",
       "        vertical-align: top;\n",
       "    }\n",
       "\n",
       "    .dataframe thead th {\n",
       "        text-align: right;\n",
       "    }\n",
       "</style>\n",
       "<table border=\"1\" class=\"dataframe\">\n",
       "  <thead>\n",
       "    <tr style=\"text-align: right;\">\n",
       "      <th></th>\n",
       "      <th>player_name</th>\n",
       "      <th>player_api_id</th>\n",
       "      <th>date</th>\n",
       "      <th>overall_rating</th>\n",
       "      <th>aggression</th>\n",
       "      <th>height</th>\n",
       "      <th>weight</th>\n",
       "    </tr>\n",
       "  </thead>\n",
       "  <tbody>\n",
       "    <tr>\n",
       "      <th>0</th>\n",
       "      <td>Aaron Appindangoye</td>\n",
       "      <td>505942</td>\n",
       "      <td>2016-02-18 00:00:00</td>\n",
       "      <td>67.0</td>\n",
       "      <td>71.0</td>\n",
       "      <td>182.88</td>\n",
       "      <td>187</td>\n",
       "    </tr>\n",
       "    <tr>\n",
       "      <th>1</th>\n",
       "      <td>Aaron Appindangoye</td>\n",
       "      <td>505942</td>\n",
       "      <td>2015-11-19 00:00:00</td>\n",
       "      <td>67.0</td>\n",
       "      <td>71.0</td>\n",
       "      <td>182.88</td>\n",
       "      <td>187</td>\n",
       "    </tr>\n",
       "    <tr>\n",
       "      <th>2</th>\n",
       "      <td>Aaron Appindangoye</td>\n",
       "      <td>505942</td>\n",
       "      <td>2015-09-21 00:00:00</td>\n",
       "      <td>62.0</td>\n",
       "      <td>63.0</td>\n",
       "      <td>182.88</td>\n",
       "      <td>187</td>\n",
       "    </tr>\n",
       "    <tr>\n",
       "      <th>3</th>\n",
       "      <td>Aaron Appindangoye</td>\n",
       "      <td>505942</td>\n",
       "      <td>2015-03-20 00:00:00</td>\n",
       "      <td>61.0</td>\n",
       "      <td>62.0</td>\n",
       "      <td>182.88</td>\n",
       "      <td>187</td>\n",
       "    </tr>\n",
       "    <tr>\n",
       "      <th>4</th>\n",
       "      <td>Aaron Appindangoye</td>\n",
       "      <td>505942</td>\n",
       "      <td>2007-02-22 00:00:00</td>\n",
       "      <td>61.0</td>\n",
       "      <td>62.0</td>\n",
       "      <td>182.88</td>\n",
       "      <td>187</td>\n",
       "    </tr>\n",
       "  </tbody>\n",
       "</table>\n",
       "</div>"
      ],
      "text/plain": [
       "          player_name  player_api_id                 date  overall_rating  \\\n",
       "0  Aaron Appindangoye         505942  2016-02-18 00:00:00            67.0   \n",
       "1  Aaron Appindangoye         505942  2015-11-19 00:00:00            67.0   \n",
       "2  Aaron Appindangoye         505942  2015-09-21 00:00:00            62.0   \n",
       "3  Aaron Appindangoye         505942  2015-03-20 00:00:00            61.0   \n",
       "4  Aaron Appindangoye         505942  2007-02-22 00:00:00            61.0   \n",
       "\n",
       "   aggression  height  weight  \n",
       "0        71.0  182.88     187  \n",
       "1        71.0  182.88     187  \n",
       "2        63.0  182.88     187  \n",
       "3        62.0  182.88     187  \n",
       "4        62.0  182.88     187  "
      ]
     },
     "execution_count": 3,
     "metadata": {},
     "output_type": "execute_result"
    }
   ],
   "source": [
    "players_query = '''\n",
    "                SELECT DISTINCT player_name, p.player_api_id, date, overall_rating, aggression, height, weight\n",
    "                FROM player p JOIN player_attributes pa\n",
    "                ON p.player_api_id=pa.player_api_id;\n",
    "                '''\n",
    "\n",
    "players = load_data(players_query)\n",
    "players.head()    "
   ]
  },
  {
   "cell_type": "markdown",
   "metadata": {},
   "source": [
    "Analise the data looking for inconsistences (duplicates, missing values..)."
   ]
  },
  {
   "cell_type": "code",
   "execution_count": 4,
   "metadata": {},
   "outputs": [
    {
     "data": {
      "text/plain": [
       "172917"
      ]
     },
     "execution_count": 4,
     "metadata": {},
     "output_type": "execute_result"
    }
   ],
   "source": [
    "# There are some duplicated values that need to be cleaned.\n",
    "sum(players.duplicated(subset=['player_api_id']))"
   ]
  },
  {
   "cell_type": "code",
   "execution_count": 5,
   "metadata": {},
   "outputs": [
    {
     "data": {
      "text/plain": [
       "player_name       False\n",
       "player_api_id     False\n",
       "date              False\n",
       "overall_rating     True\n",
       "aggression         True\n",
       "height            False\n",
       "weight            False\n",
       "dtype: bool"
      ]
     },
     "execution_count": 5,
     "metadata": {},
     "output_type": "execute_result"
    }
   ],
   "source": [
    "# We also have some missing values.\n",
    "players.isnull().any()"
   ]
  },
  {
   "cell_type": "markdown",
   "metadata": {},
   "source": [
    "Another data need to answer the last question is about teams and matchs."
   ]
  },
  {
   "cell_type": "code",
   "execution_count": 6,
   "metadata": {},
   "outputs": [
    {
     "data": {
      "text/html": [
       "<div>\n",
       "<style scoped>\n",
       "    .dataframe tbody tr th:only-of-type {\n",
       "        vertical-align: middle;\n",
       "    }\n",
       "\n",
       "    .dataframe tbody tr th {\n",
       "        vertical-align: top;\n",
       "    }\n",
       "\n",
       "    .dataframe thead th {\n",
       "        text-align: right;\n",
       "    }\n",
       "</style>\n",
       "<table border=\"1\" class=\"dataframe\">\n",
       "  <thead>\n",
       "    <tr style=\"text-align: right;\">\n",
       "      <th></th>\n",
       "      <th>date</th>\n",
       "      <th>home_team_api_id</th>\n",
       "      <th>away_team_api_id</th>\n",
       "      <th>home_team_goal</th>\n",
       "      <th>away_team_goal</th>\n",
       "    </tr>\n",
       "  </thead>\n",
       "  <tbody>\n",
       "    <tr>\n",
       "      <th>0</th>\n",
       "      <td>2016-01-16 00:00:00</td>\n",
       "      <td>8342</td>\n",
       "      <td>274581</td>\n",
       "      <td>3</td>\n",
       "      <td>0</td>\n",
       "    </tr>\n",
       "    <tr>\n",
       "      <th>1</th>\n",
       "      <td>2016-01-17 00:00:00</td>\n",
       "      <td>9991</td>\n",
       "      <td>8635</td>\n",
       "      <td>2</td>\n",
       "      <td>0</td>\n",
       "    </tr>\n",
       "    <tr>\n",
       "      <th>2</th>\n",
       "      <td>2016-01-15 00:00:00</td>\n",
       "      <td>9987</td>\n",
       "      <td>10000</td>\n",
       "      <td>2</td>\n",
       "      <td>1</td>\n",
       "    </tr>\n",
       "    <tr>\n",
       "      <th>3</th>\n",
       "      <td>2016-01-17 00:00:00</td>\n",
       "      <td>8573</td>\n",
       "      <td>8475</td>\n",
       "      <td>3</td>\n",
       "      <td>3</td>\n",
       "    </tr>\n",
       "    <tr>\n",
       "      <th>4</th>\n",
       "      <td>2016-01-17 00:00:00</td>\n",
       "      <td>9994</td>\n",
       "      <td>9985</td>\n",
       "      <td>0</td>\n",
       "      <td>2</td>\n",
       "    </tr>\n",
       "  </tbody>\n",
       "</table>\n",
       "</div>"
      ],
      "text/plain": [
       "                  date  home_team_api_id  away_team_api_id  home_team_goal  \\\n",
       "0  2016-01-16 00:00:00              8342            274581               3   \n",
       "1  2016-01-17 00:00:00              9991              8635               2   \n",
       "2  2016-01-15 00:00:00              9987             10000               2   \n",
       "3  2016-01-17 00:00:00              8573              8475               3   \n",
       "4  2016-01-17 00:00:00              9994              9985               0   \n",
       "\n",
       "   away_team_goal  \n",
       "0               0  \n",
       "1               0  \n",
       "2               1  \n",
       "3               3  \n",
       "4               2  "
      ]
     },
     "execution_count": 6,
     "metadata": {},
     "output_type": "execute_result"
    }
   ],
   "source": [
    "match_query = '''\n",
    "              SELECT date, home_team_api_id, away_team_api_id, home_team_goal, away_team_goal\n",
    "              FROM Match\n",
    "              WHERE date like '2016%';\n",
    "              '''\n",
    "\n",
    "match = load_data(match_query) \n",
    "match.head()   "
   ]
  },
  {
   "cell_type": "code",
   "execution_count": 7,
   "metadata": {},
   "outputs": [
    {
     "data": {
      "text/html": [
       "<div>\n",
       "<style scoped>\n",
       "    .dataframe tbody tr th:only-of-type {\n",
       "        vertical-align: middle;\n",
       "    }\n",
       "\n",
       "    .dataframe tbody tr th {\n",
       "        vertical-align: top;\n",
       "    }\n",
       "\n",
       "    .dataframe thead th {\n",
       "        text-align: right;\n",
       "    }\n",
       "</style>\n",
       "<table border=\"1\" class=\"dataframe\">\n",
       "  <thead>\n",
       "    <tr style=\"text-align: right;\">\n",
       "      <th></th>\n",
       "      <th>date</th>\n",
       "      <th>team_api_id</th>\n",
       "      <th>buildUpPlaySpeed</th>\n",
       "      <th>buildUpPlayDribbling</th>\n",
       "      <th>buildUpPlayPassing</th>\n",
       "    </tr>\n",
       "  </thead>\n",
       "  <tbody>\n",
       "    <tr>\n",
       "      <th>0</th>\n",
       "      <td>2015-09-10 00:00:00</td>\n",
       "      <td>9930</td>\n",
       "      <td>47</td>\n",
       "      <td>41.0</td>\n",
       "      <td>54</td>\n",
       "    </tr>\n",
       "    <tr>\n",
       "      <th>1</th>\n",
       "      <td>2015-09-10 00:00:00</td>\n",
       "      <td>8485</td>\n",
       "      <td>59</td>\n",
       "      <td>64.0</td>\n",
       "      <td>53</td>\n",
       "    </tr>\n",
       "    <tr>\n",
       "      <th>2</th>\n",
       "      <td>2015-09-10 00:00:00</td>\n",
       "      <td>8576</td>\n",
       "      <td>59</td>\n",
       "      <td>57.0</td>\n",
       "      <td>52</td>\n",
       "    </tr>\n",
       "    <tr>\n",
       "      <th>3</th>\n",
       "      <td>2015-09-10 00:00:00</td>\n",
       "      <td>8564</td>\n",
       "      <td>48</td>\n",
       "      <td>70.0</td>\n",
       "      <td>52</td>\n",
       "    </tr>\n",
       "    <tr>\n",
       "      <th>4</th>\n",
       "      <td>2015-09-10 00:00:00</td>\n",
       "      <td>10215</td>\n",
       "      <td>53</td>\n",
       "      <td>53.0</td>\n",
       "      <td>44</td>\n",
       "    </tr>\n",
       "  </tbody>\n",
       "</table>\n",
       "</div>"
      ],
      "text/plain": [
       "                  date  team_api_id  buildUpPlaySpeed  buildUpPlayDribbling  \\\n",
       "0  2015-09-10 00:00:00         9930                47                  41.0   \n",
       "1  2015-09-10 00:00:00         8485                59                  64.0   \n",
       "2  2015-09-10 00:00:00         8576                59                  57.0   \n",
       "3  2015-09-10 00:00:00         8564                48                  70.0   \n",
       "4  2015-09-10 00:00:00        10215                53                  53.0   \n",
       "\n",
       "   buildUpPlayPassing  \n",
       "0                  54  \n",
       "1                  53  \n",
       "2                  52  \n",
       "3                  52  \n",
       "4                  44  "
      ]
     },
     "execution_count": 7,
     "metadata": {},
     "output_type": "execute_result"
    }
   ],
   "source": [
    "team_query = '''\n",
    "             SELECT date, team_api_id, buildUpPlaySpeed, buildUpPlayDribbling, buildUpPlayPassing\n",
    "             FROM Team_Attributes ORDER BY date DESC;\n",
    "             '''\n",
    "\n",
    "team = load_data(team_query)    \n",
    "team.head()  "
   ]
  },
  {
   "cell_type": "markdown",
   "metadata": {},
   "source": [
    "We will genarate another table the make the analysis easier. The final data frame will have the difference of the home and aways teams on goals and attributes."
   ]
  },
  {
   "cell_type": "code",
   "execution_count": 8,
   "metadata": {},
   "outputs": [],
   "source": [
    "temp1 = match.merge(team, left_on='home_team_api_id', right_on='team_api_id', how='left')\n",
    "temp2 = temp1.merge(team, left_on='away_team_api_id', right_on='team_api_id', how='left')\n",
    "temp3 = temp2[['home_team_goal', \n",
    "                        'away_team_goal', \n",
    "                        'buildUpPlaySpeed_x', \n",
    "                        'buildUpPlayDribbling_x', \n",
    "                        'buildUpPlayPassing_x', \n",
    "                        'buildUpPlaySpeed_y', \n",
    "                        'buildUpPlayDribbling_y', \n",
    "                        'buildUpPlayPassing_y',\n",
    "                       ]].copy()\n",
    "\n",
    "temp3['goals_diff'] = temp3['home_team_goal'] - temp3['away_team_goal']\n",
    "temp3['speed_diff'] = temp3['buildUpPlaySpeed_x'] - temp3['buildUpPlaySpeed_y']\n",
    "temp3['dribbling_diff'] = temp3['buildUpPlayDribbling_x'] - temp3['buildUpPlayDribbling_y']\n",
    "temp3['passing_diff'] = temp3['buildUpPlayPassing_x'] - temp3['buildUpPlayPassing_y']"
   ]
  },
  {
   "cell_type": "code",
   "execution_count": 9,
   "metadata": {},
   "outputs": [
    {
     "data": {
      "text/html": [
       "<div>\n",
       "<style scoped>\n",
       "    .dataframe tbody tr th:only-of-type {\n",
       "        vertical-align: middle;\n",
       "    }\n",
       "\n",
       "    .dataframe tbody tr th {\n",
       "        vertical-align: top;\n",
       "    }\n",
       "\n",
       "    .dataframe thead th {\n",
       "        text-align: right;\n",
       "    }\n",
       "</style>\n",
       "<table border=\"1\" class=\"dataframe\">\n",
       "  <thead>\n",
       "    <tr style=\"text-align: right;\">\n",
       "      <th></th>\n",
       "      <th>goals_diff</th>\n",
       "      <th>speed_diff</th>\n",
       "      <th>dribbling_diff</th>\n",
       "      <th>passing_diff</th>\n",
       "    </tr>\n",
       "  </thead>\n",
       "  <tbody>\n",
       "    <tr>\n",
       "      <th>0</th>\n",
       "      <td>3</td>\n",
       "      <td>-8.0</td>\n",
       "      <td>2.0</td>\n",
       "      <td>-5.0</td>\n",
       "    </tr>\n",
       "    <tr>\n",
       "      <th>1</th>\n",
       "      <td>3</td>\n",
       "      <td>-8.0</td>\n",
       "      <td>2.0</td>\n",
       "      <td>-5.0</td>\n",
       "    </tr>\n",
       "    <tr>\n",
       "      <th>2</th>\n",
       "      <td>3</td>\n",
       "      <td>-5.0</td>\n",
       "      <td>NaN</td>\n",
       "      <td>-2.0</td>\n",
       "    </tr>\n",
       "    <tr>\n",
       "      <th>3</th>\n",
       "      <td>3</td>\n",
       "      <td>14.0</td>\n",
       "      <td>NaN</td>\n",
       "      <td>4.0</td>\n",
       "    </tr>\n",
       "    <tr>\n",
       "      <th>4</th>\n",
       "      <td>3</td>\n",
       "      <td>17.0</td>\n",
       "      <td>NaN</td>\n",
       "      <td>-3.0</td>\n",
       "    </tr>\n",
       "  </tbody>\n",
       "</table>\n",
       "</div>"
      ],
      "text/plain": [
       "   goals_diff  speed_diff  dribbling_diff  passing_diff\n",
       "0           3        -8.0             2.0          -5.0\n",
       "1           3        -8.0             2.0          -5.0\n",
       "2           3        -5.0             NaN          -2.0\n",
       "3           3        14.0             NaN           4.0\n",
       "4           3        17.0             NaN          -3.0"
      ]
     },
     "execution_count": 9,
     "metadata": {},
     "output_type": "execute_result"
    }
   ],
   "source": [
    "complete_match = temp3[['goals_diff', 'speed_diff', 'dribbling_diff', 'passing_diff']].copy()\n",
    "complete_match.head()"
   ]
  },
  {
   "cell_type": "markdown",
   "metadata": {},
   "source": [
    "We will need some clean to remove null values."
   ]
  },
  {
   "cell_type": "code",
   "execution_count": 10,
   "metadata": {},
   "outputs": [
    {
     "data": {
      "text/plain": [
       "goals_diff        False\n",
       "speed_diff         True\n",
       "dribbling_diff     True\n",
       "passing_diff       True\n",
       "dtype: bool"
      ]
     },
     "execution_count": 10,
     "metadata": {},
     "output_type": "execute_result"
    }
   ],
   "source": [
    "complete_match.isnull().any()"
   ]
  },
  {
   "cell_type": "markdown",
   "metadata": {},
   "source": [
    "### Data Cleaning"
   ]
  },
  {
   "cell_type": "markdown",
   "metadata": {},
   "source": [
    "We will remove the duplicated values keeping the first ones because they are the most updated ones."
   ]
  },
  {
   "cell_type": "code",
   "execution_count": 11,
   "metadata": {},
   "outputs": [
    {
     "data": {
      "text/plain": [
       "0"
      ]
     },
     "execution_count": 11,
     "metadata": {},
     "output_type": "execute_result"
    }
   ],
   "source": [
    "players.drop_duplicates(subset=['player_api_id'], inplace=True)\n",
    "sum(players.duplicated(subset=['player_api_id']))"
   ]
  },
  {
   "cell_type": "markdown",
   "metadata": {},
   "source": [
    "As we found that there are some missing values, we will remove it."
   ]
  },
  {
   "cell_type": "code",
   "execution_count": 12,
   "metadata": {},
   "outputs": [
    {
     "data": {
      "text/plain": [
       "player_name       False\n",
       "player_api_id     False\n",
       "date              False\n",
       "overall_rating    False\n",
       "aggression        False\n",
       "height            False\n",
       "weight            False\n",
       "dtype: bool"
      ]
     },
     "execution_count": 12,
     "metadata": {},
     "output_type": "execute_result"
    }
   ],
   "source": [
    "players.dropna(inplace=True)\n",
    "players.isnull().any()"
   ]
  },
  {
   "cell_type": "markdown",
   "metadata": {},
   "source": [
    "For the matchs we will get only the most update data that will correspond to 2016 matchs."
   ]
  },
  {
   "cell_type": "code",
   "execution_count": 13,
   "metadata": {},
   "outputs": [
    {
     "data": {
      "text/plain": [
       "0"
      ]
     },
     "execution_count": 13,
     "metadata": {},
     "output_type": "execute_result"
    }
   ],
   "source": [
    "team.drop_duplicates(subset=['team_api_id'], inplace=True)\n",
    "sum(team.duplicated(subset=['team_api_id']))"
   ]
  },
  {
   "cell_type": "markdown",
   "metadata": {},
   "source": [
    "Now we will clean the matchs removing null values."
   ]
  },
  {
   "cell_type": "code",
   "execution_count": 14,
   "metadata": {},
   "outputs": [
    {
     "data": {
      "text/plain": [
       "goals_diff        False\n",
       "speed_diff        False\n",
       "dribbling_diff    False\n",
       "passing_diff      False\n",
       "dtype: bool"
      ]
     },
     "execution_count": 14,
     "metadata": {},
     "output_type": "execute_result"
    }
   ],
   "source": [
    "complete_match.dropna(inplace=True)\n",
    "complete_match.isnull().any()"
   ]
  },
  {
   "cell_type": "markdown",
   "metadata": {},
   "source": [
    "<a id='eda'></a>\n",
    "## Exploratory Data Analysis\n",
    "\n",
    "<a id='question1'></a>\n",
    "### Who are the best players on Europe (better rating)?"
   ]
  },
  {
   "cell_type": "markdown",
   "metadata": {},
   "source": [
    "To answer this question we will use the rating number provided by each players. The most recent rating will be considered. A bar plot can show well the results for this question."
   ]
  },
  {
   "cell_type": "code",
   "execution_count": 15,
   "metadata": {},
   "outputs": [],
   "source": [
    "# Sorting by rating and geting the the important values\n",
    "top_players_rating = players.sort_values(by=['overall_rating'], ascending=False)[:5][['player_name', 'overall_rating']]"
   ]
  },
  {
   "cell_type": "code",
   "execution_count": 16,
   "metadata": {},
   "outputs": [
    {
     "data": {
      "image/png": "[encoded data removed]",
      "text/plain": [
       "<Figure size 432x288 with 1 Axes>"
      ]
     },
     "metadata": {},
     "output_type": "display_data"
    }
   ],
   "source": [
    "# Ploting player vs ratings\n",
    "sns.set_theme(style='whitegrid')\n",
    "fig = sns.barplot(x='player_name', y='overall_rating', data=top_players_rating)\n",
    "plt.setp(fig.get_xticklabels(), rotation=90)\n",
    "plt.ylim(80, 96)\n",
    "fig.set(xlabel='Player', ylabel='Rating', title='Best Players on Europe');"
   ]
  },
  {
   "cell_type": "markdown",
   "metadata": {},
   "source": [
    "<a id='question2'></a>\n",
    "### Who are the player with higher aggression rating?"
   ]
  },
  {
   "cell_type": "markdown",
   "metadata": {},
   "source": [
    "To answer this question we will use the agression number provided by each players. The most recent agression rating will be considered. A bar plot can show well the results for this question."
   ]
  },
  {
   "cell_type": "code",
   "execution_count": 17,
   "metadata": {},
   "outputs": [],
   "source": [
    "# Sorting by agression and geting the the important values\n",
    "top_players_aggression = players.sort_values(by=['aggression'], ascending=False)[:5][['player_name', 'aggression']]"
   ]
  },
  {
   "cell_type": "code",
   "execution_count": 18,
   "metadata": {},
   "outputs": [
    {
     "data": {
      "image/png": "[encoded data removed]",
      "text/plain": [
       "<Figure size 432x288 with 1 Axes>"
      ]
     },
     "metadata": {},
     "output_type": "display_data"
    }
   ],
   "source": [
    "# Ploting player vs aggression\n",
    "sns.set_theme(style='whitegrid')\n",
    "fig = sns.barplot(x='player_name', y='aggression', data=top_players_aggression)\n",
    "plt.setp(fig.get_xticklabels(), rotation=90)\n",
    "plt.ylim(86, 96)\n",
    "fig.set(xlabel='Player', ylabel='Aggression', title='Players reated with more aggressiveness');"
   ]
  },
  {
   "cell_type": "markdown",
   "metadata": {},
   "source": [
    "<a id='question3'></a>\n",
    "### Is the player rating related to agressiveness?"
   ]
  },
  {
   "cell_type": "markdown",
   "metadata": {},
   "source": [
    "To answer this question we can plot a relation between the two variables on a scatter plot to have a visual insight about the relation."
   ]
  },
  {
   "cell_type": "code",
   "execution_count": 19,
   "metadata": {},
   "outputs": [
    {
     "data": {
      "image/png": "[encoded data removed]",
      "text/plain": [
       "<Figure size 432x288 with 1 Axes>"
      ]
     },
     "metadata": {},
     "output_type": "display_data"
    }
   ],
   "source": [
    "# Ploting rating vs agression\n",
    "sns.set_theme(style='whitegrid')\n",
    "fig = sns.scatterplot(x=\"aggression\", y=\"overall_rating\", data=players)\n",
    "fig.set(xlabel='Aggression', ylabel='Rating', title='Aggresion vs Rating');"
   ]
  },
  {
   "cell_type": "markdown",
   "metadata": {},
   "source": [
    "For the data we didn't find any strong corelation for these two parameters. I was expecting to see some corelation here, like better players been less aggressive, but it was not what I find."
   ]
  },
  {
   "cell_type": "markdown",
   "metadata": {},
   "source": [
    "<a id='question4'></a>\n",
    "### How the players are distributed by their physical form (measured by the Body Mass Index)."
   ]
  },
  {
   "cell_type": "markdown",
   "metadata": {},
   "source": [
    "To answer this question we need to calculate the BMI, that is Weight / (Height * Height). With a histogram we will see the distribution of players BMI."
   ]
  },
  {
   "cell_type": "code",
   "execution_count": 20,
   "metadata": {},
   "outputs": [
    {
     "data": {
      "text/html": [
       "<div>\n",
       "<style scoped>\n",
       "    .dataframe tbody tr th:only-of-type {\n",
       "        vertical-align: middle;\n",
       "    }\n",
       "\n",
       "    .dataframe tbody tr th {\n",
       "        vertical-align: top;\n",
       "    }\n",
       "\n",
       "    .dataframe thead th {\n",
       "        text-align: right;\n",
       "    }\n",
       "</style>\n",
       "<table border=\"1\" class=\"dataframe\">\n",
       "  <thead>\n",
       "    <tr style=\"text-align: right;\">\n",
       "      <th></th>\n",
       "      <th>player_api_id</th>\n",
       "      <th>overall_rating</th>\n",
       "      <th>aggression</th>\n",
       "      <th>height</th>\n",
       "      <th>weight</th>\n",
       "      <th>BMI</th>\n",
       "    </tr>\n",
       "  </thead>\n",
       "  <tbody>\n",
       "    <tr>\n",
       "      <th>count</th>\n",
       "      <td>11060.000000</td>\n",
       "      <td>11060.000000</td>\n",
       "      <td>11060.000000</td>\n",
       "      <td>11060.000000</td>\n",
       "      <td>11060.000000</td>\n",
       "      <td>11060.000000</td>\n",
       "    </tr>\n",
       "    <tr>\n",
       "      <th>mean</th>\n",
       "      <td>156582.427215</td>\n",
       "      <td>67.961935</td>\n",
       "      <td>61.008951</td>\n",
       "      <td>181.867445</td>\n",
       "      <td>168.380289</td>\n",
       "      <td>23.061806</td>\n",
       "    </tr>\n",
       "    <tr>\n",
       "      <th>std</th>\n",
       "      <td>160713.700624</td>\n",
       "      <td>6.316694</td>\n",
       "      <td>16.254977</td>\n",
       "      <td>6.369201</td>\n",
       "      <td>14.990217</td>\n",
       "      <td>1.316878</td>\n",
       "    </tr>\n",
       "    <tr>\n",
       "      <th>min</th>\n",
       "      <td>2625.000000</td>\n",
       "      <td>42.000000</td>\n",
       "      <td>11.000000</td>\n",
       "      <td>157.480000</td>\n",
       "      <td>117.000000</td>\n",
       "      <td>17.586568</td>\n",
       "    </tr>\n",
       "    <tr>\n",
       "      <th>25%</th>\n",
       "      <td>35555.500000</td>\n",
       "      <td>64.000000</td>\n",
       "      <td>52.000000</td>\n",
       "      <td>177.800000</td>\n",
       "      <td>159.000000</td>\n",
       "      <td>22.170941</td>\n",
       "    </tr>\n",
       "    <tr>\n",
       "      <th>50%</th>\n",
       "      <td>96619.500000</td>\n",
       "      <td>68.000000</td>\n",
       "      <td>64.000000</td>\n",
       "      <td>182.880000</td>\n",
       "      <td>168.000000</td>\n",
       "      <td>23.051962</td>\n",
       "    </tr>\n",
       "    <tr>\n",
       "      <th>75%</th>\n",
       "      <td>212470.500000</td>\n",
       "      <td>72.000000</td>\n",
       "      <td>73.000000</td>\n",
       "      <td>185.420000</td>\n",
       "      <td>179.000000</td>\n",
       "      <td>23.867438</td>\n",
       "    </tr>\n",
       "    <tr>\n",
       "      <th>max</th>\n",
       "      <td>750584.000000</td>\n",
       "      <td>94.000000</td>\n",
       "      <td>94.000000</td>\n",
       "      <td>208.280000</td>\n",
       "      <td>243.000000</td>\n",
       "      <td>30.860445</td>\n",
       "    </tr>\n",
       "  </tbody>\n",
       "</table>\n",
       "</div>"
      ],
      "text/plain": [
       "       player_api_id  overall_rating    aggression        height  \\\n",
       "count   11060.000000    11060.000000  11060.000000  11060.000000   \n",
       "mean   156582.427215       67.961935     61.008951    181.867445   \n",
       "std    160713.700624        6.316694     16.254977      6.369201   \n",
       "min      2625.000000       42.000000     11.000000    157.480000   \n",
       "25%     35555.500000       64.000000     52.000000    177.800000   \n",
       "50%     96619.500000       68.000000     64.000000    182.880000   \n",
       "75%    212470.500000       72.000000     73.000000    185.420000   \n",
       "max    750584.000000       94.000000     94.000000    208.280000   \n",
       "\n",
       "             weight           BMI  \n",
       "count  11060.000000  11060.000000  \n",
       "mean     168.380289     23.061806  \n",
       "std       14.990217      1.316878  \n",
       "min      117.000000     17.586568  \n",
       "25%      159.000000     22.170941  \n",
       "50%      168.000000     23.051962  \n",
       "75%      179.000000     23.867438  \n",
       "max      243.000000     30.860445  "
      ]
     },
     "execution_count": 20,
     "metadata": {},
     "output_type": "execute_result"
    }
   ],
   "source": [
    "# Calculating BMI for each player\n",
    "players['BMI'] = (players['weight'] / 2.205) / ((players['height'] / 100) ** 2)\n",
    "players.describe()"
   ]
  },
  {
   "cell_type": "code",
   "execution_count": 21,
   "metadata": {},
   "outputs": [
    {
     "data": {
      "image/png": "[encoded data removed]",
      "text/plain": [
       "<Figure size 432x288 with 1 Axes>"
      ]
     },
     "metadata": {},
     "output_type": "display_data"
    }
   ],
   "source": [
    "# Ploring a histogram to see the distribution\n",
    "players['BMI'].hist();"
   ]
  },
  {
   "cell_type": "markdown",
   "metadata": {},
   "source": [
    "By the BMI index, below 18.5 is under a healthy weight and above 30 is considered obesity.\n",
    "By this histogram we can see that professional soccer player in most cases have a good boddy structure."
   ]
  },
  {
   "cell_type": "markdown",
   "metadata": {},
   "source": [
    "<a id='question5'></a>\n",
    "### Teams playing at home won more matchs?"
   ]
  },
  {
   "cell_type": "markdown",
   "metadata": {},
   "source": [
    "To answer this question we will use the goals difference and a pie chart to show the relative quantity of three different results."
   ]
  },
  {
   "cell_type": "code",
   "execution_count": 22,
   "metadata": {},
   "outputs": [],
   "source": [
    "# Intermetiate values to computations\n",
    "home_victory = complete_match.apply(lambda x: True if x['goals_diff'] > 0 else False , axis=1)\n",
    "numOfHomeVictory = len(home_victory[home_victory == True].index)\n",
    "\n",
    "away_victory = complete_match.apply(lambda x: True if x['goals_diff'] < 0 else False , axis=1)\n",
    "numOfAwayVictory = len(away_victory[away_victory == True].index)\n",
    "\n",
    "draws_game = complete_match.apply(lambda x: True if x['goals_diff'] == 0 else False , axis=1)\n",
    "numOfDraws = len(draws_game[draws_game == True].index)"
   ]
  },
  {
   "cell_type": "code",
   "execution_count": 23,
   "metadata": {},
   "outputs": [
    {
     "data": {
      "image/png": "[encoded data removed]",
      "text/plain": [
       "<Figure size 432x288 with 1 Axes>"
      ]
     },
     "metadata": {},
     "output_type": "display_data"
    }
   ],
   "source": [
    "# Ploting a pie chart\n",
    "labels = 'Home Victory', 'Draws Game', 'Away Victory'\n",
    "sizes = [numOfHomeVictory, numOfDraws, numOfAwayVictory]\n",
    "explode = (0.05, 0, 0)\n",
    "\n",
    "fig1, ax1 = plt.subplots()\n",
    "ax1.pie(sizes, explode=explode, labels=labels, autopct='%1.1f%%',\n",
    "        shadow=True, startangle=90)\n",
    "ax1.axis('equal')\n",
    "\n",
    "plt.show()"
   ]
  },
  {
   "cell_type": "markdown",
   "metadata": {},
   "source": [
    "In our data for 2016 the teams playing at home have won more, at least for the data remaning after the clean. We can see this result is consistent with the mean of goals_diff been 0.37 (witch means more goals for home teams)."
   ]
  },
  {
   "cell_type": "code",
   "execution_count": 24,
   "metadata": {},
   "outputs": [
    {
     "data": {
      "text/html": [
       "<div>\n",
       "<style scoped>\n",
       "    .dataframe tbody tr th:only-of-type {\n",
       "        vertical-align: middle;\n",
       "    }\n",
       "\n",
       "    .dataframe tbody tr th {\n",
       "        vertical-align: top;\n",
       "    }\n",
       "\n",
       "    .dataframe thead th {\n",
       "        text-align: right;\n",
       "    }\n",
       "</style>\n",
       "<table border=\"1\" class=\"dataframe\">\n",
       "  <thead>\n",
       "    <tr style=\"text-align: right;\">\n",
       "      <th></th>\n",
       "      <th>goals_diff</th>\n",
       "      <th>speed_diff</th>\n",
       "      <th>dribbling_diff</th>\n",
       "      <th>passing_diff</th>\n",
       "    </tr>\n",
       "  </thead>\n",
       "  <tbody>\n",
       "    <tr>\n",
       "      <th>count</th>\n",
       "      <td>5593.000000</td>\n",
       "      <td>5593.000000</td>\n",
       "      <td>5593.000000</td>\n",
       "      <td>5593.000000</td>\n",
       "    </tr>\n",
       "    <tr>\n",
       "      <th>mean</th>\n",
       "      <td>0.370821</td>\n",
       "      <td>0.087788</td>\n",
       "      <td>0.087431</td>\n",
       "      <td>-0.036295</td>\n",
       "    </tr>\n",
       "    <tr>\n",
       "      <th>std</th>\n",
       "      <td>1.897636</td>\n",
       "      <td>14.044177</td>\n",
       "      <td>12.044522</td>\n",
       "      <td>14.673105</td>\n",
       "    </tr>\n",
       "    <tr>\n",
       "      <th>min</th>\n",
       "      <td>-9.000000</td>\n",
       "      <td>-54.000000</td>\n",
       "      <td>-47.000000</td>\n",
       "      <td>-55.000000</td>\n",
       "    </tr>\n",
       "    <tr>\n",
       "      <th>25%</th>\n",
       "      <td>-1.000000</td>\n",
       "      <td>-9.000000</td>\n",
       "      <td>-7.000000</td>\n",
       "      <td>-10.000000</td>\n",
       "    </tr>\n",
       "    <tr>\n",
       "      <th>50%</th>\n",
       "      <td>0.000000</td>\n",
       "      <td>0.000000</td>\n",
       "      <td>0.000000</td>\n",
       "      <td>0.000000</td>\n",
       "    </tr>\n",
       "    <tr>\n",
       "      <th>75%</th>\n",
       "      <td>1.000000</td>\n",
       "      <td>9.000000</td>\n",
       "      <td>7.000000</td>\n",
       "      <td>10.000000</td>\n",
       "    </tr>\n",
       "    <tr>\n",
       "      <th>max</th>\n",
       "      <td>7.000000</td>\n",
       "      <td>50.000000</td>\n",
       "      <td>45.000000</td>\n",
       "      <td>47.000000</td>\n",
       "    </tr>\n",
       "  </tbody>\n",
       "</table>\n",
       "</div>"
      ],
      "text/plain": [
       "        goals_diff   speed_diff  dribbling_diff  passing_diff\n",
       "count  5593.000000  5593.000000     5593.000000   5593.000000\n",
       "mean      0.370821     0.087788        0.087431     -0.036295\n",
       "std       1.897636    14.044177       12.044522     14.673105\n",
       "min      -9.000000   -54.000000      -47.000000    -55.000000\n",
       "25%      -1.000000    -9.000000       -7.000000    -10.000000\n",
       "50%       0.000000     0.000000        0.000000      0.000000\n",
       "75%       1.000000     9.000000        7.000000     10.000000\n",
       "max       7.000000    50.000000       45.000000     47.000000"
      ]
     },
     "execution_count": 24,
     "metadata": {},
     "output_type": "execute_result"
    }
   ],
   "source": [
    "complete_match.describe()"
   ]
  },
  {
   "cell_type": "markdown",
   "metadata": {},
   "source": [
    "<a id='question6'></a>\n",
    "### What teams attributes have correlation with victory when playing at home?"
   ]
  },
  {
   "cell_type": "markdown",
   "metadata": {},
   "source": [
    "To answer this question we can see the relation between different team attributes against the goals difference.\n",
    "A good way to see this is with a scatterplot for each variable. We could use the scatter_matrix function but is better visualized as separate plots."
   ]
  },
  {
   "cell_type": "code",
   "execution_count": 25,
   "metadata": {},
   "outputs": [
    {
     "data": {
      "image/png": "[encoded data removed]",
      "text/plain": [
       "<Figure size 432x288 with 1 Axes>"
      ]
     },
     "metadata": {},
     "output_type": "display_data"
    }
   ],
   "source": [
    "# Ploting speed_diff vs goals_diff\n",
    "sns.set_theme(style='whitegrid')\n",
    "fig2 = sns.scatterplot(x=\"speed_diff\", y=\"goals_diff\", data=complete_match)\n",
    "fig2.set(xlabel='Speed Difference', ylabel='Goals Difference', title='Speed vs Goals');"
   ]
  },
  {
   "cell_type": "code",
   "execution_count": 26,
   "metadata": {},
   "outputs": [
    {
     "data": {
      "image/png": "[encoded data removed]",
      "text/plain": [
       "<Figure size 432x288 with 1 Axes>"
      ]
     },
     "metadata": {},
     "output_type": "display_data"
    }
   ],
   "source": [
    "# Ploting dribbling_diff vs goals_diff\n",
    "sns.set_theme(style='whitegrid')\n",
    "fig3 = sns.scatterplot(x=\"dribbling_diff\", y=\"goals_diff\", data=complete_match)\n",
    "fig3.set(xlabel='Dribbling Difference', ylabel='Goals Difference', title='Dribbling vs Goals');"
   ]
  },
  {
   "cell_type": "code",
   "execution_count": 27,
   "metadata": {},
   "outputs": [
    {
     "data": {
      "image/png": "[encoded data removed]",
      "text/plain": [
       "<Figure size 432x288 with 1 Axes>"
      ]
     },
     "metadata": {},
     "output_type": "display_data"
    }
   ],
   "source": [
    "# Ploting passing_diff vs goals_diff\n",
    "sns.set_theme(style='whitegrid')\n",
    "fig4 = sns.scatterplot(x=\"passing_diff\", y=\"goals_diff\", data=complete_match)\n",
    "fig4.set(xlabel='Passing Difference', ylabel='Goals Difference', title='Passing vs Goals');"
   ]
  },
  {
   "cell_type": "markdown",
   "metadata": {},
   "source": [
    "Remmember that the differences are for Home Team minus Away Team.\n",
    "\n",
    "Visualy we can't see any correlation for Speed and Dribling. About Passing we can see some negative correlation between passing difference and goals diference."
   ]
  },
  {
   "cell_type": "markdown",
   "metadata": {},
   "source": [
    "<a id='conclusions'></a>\n",
    "## Conclusions\n",
    "\n",
    "The results we showed could help answers the questions we proposed at beginning.\n",
    "Soccer is a complex game that involves lots of individual performance that it's hard to point definitive solutions about what can work better.\n",
    "\n",
    "We had some insights about the state of European Soccer while having a great learning while trying to work with this data.\n",
    "\n",
    "Some limitations are important:\n",
    "\n",
    "* No statistical tests were applied, so we have only insights but not strong conclusions.\n",
    "* Many columns in the Match table are empty and it would make analysis more accurate if these values were recorded.\n",
    "* Some data came from video game, so they may not represent reality."
   ]
  },
  {
   "cell_type": "code",
   "execution_count": null,
   "metadata": {},
   "outputs": [],
   "source": []
  }
 ],
 "metadata": {
  "kernelspec": {
   "display_name": "Python 3",
   "language": "python",
   "name": "python3"
  },
  "language_info": {
   "codemirror_mode": {
    "name": "ipython",
    "version": 3
   },
   "file_extension": ".py",
   "mimetype": "text/x-python",
   "name": "python",
   "nbconvert_exporter": "python",
   "pygments_lexer": "ipython3",
   "version": "3.8.5"
  }
 },
 "nbformat": 4,
 "nbformat_minor": 2
}
