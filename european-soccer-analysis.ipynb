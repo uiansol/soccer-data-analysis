{
 "cells": [
  {
   "cell_type": "markdown",
   "metadata": {},
   "source": [
    "# Curiosities of European Soccer\n",
    "\n",
    "## Table of Contents\n",
    "<ul>\n",
    "<li><a href=\"#intro\">Introduction</a></li>\n",
    "<li><a href=\"#wrangling\">Data Wrangling</a></li>\n",
    "<li><a href=\"#eda\">Exploratory Data Analysis</a></li>\n",
    "<li><a href=\"#conclusions\">Conclusions</a></li>\n",
    "</ul>"
   ]
  },
  {
   "cell_type": "markdown",
   "metadata": {},
   "source": [
    "<a id='intro'></a>\n",
    "## Introduction\n",
    "\n",
    "This data set from Kaggle brings data of soccer from european leagues, teams and players from 2008 to 2016.\n",
    "* +25,000 matches\n",
    "* +10,000 players\n",
    "* 11 European Countries with their lead championship\n",
    "\n",
    "Some question I will try to answer here in this work:\n",
    "\n",
    "1. asd\n"
   ]
  },
  {
   "cell_type": "markdown",
   "metadata": {},
   "source": [
    "Import libs used."
   ]
  },
  {
   "cell_type": "code",
   "execution_count": 1,
   "metadata": {},
   "outputs": [],
   "source": [
    "import pandas as pd\n",
    "import numpy as np\n",
    "import matplotlib.pyplot as plt\n",
    "import seaborn as sns\n",
    "import sqlite3\n",
    "%matplotlib inline"
   ]
  },
  {
   "cell_type": "markdown",
   "metadata": {},
   "source": [
    "<a id='wrangling'></a>\n",
    "## Data Wrangling\n",
    "\n",
    "### General Properties"
   ]
  },
  {
   "cell_type": "markdown",
   "metadata": {},
   "source": [
    "Load data for Players from database.sqlite witch is in the same folder of the notebook.\n",
    "The columns 'overall_rating' and 'penalties' will be used to answer some questions."
   ]
  },
  {
   "cell_type": "code",
   "execution_count": 123,
   "metadata": {},
   "outputs": [
    {
     "data": {
      "text/html": [
       "<div>\n",
       "<style scoped>\n",
       "    .dataframe tbody tr th:only-of-type {\n",
       "        vertical-align: middle;\n",
       "    }\n",
       "\n",
       "    .dataframe tbody tr th {\n",
       "        vertical-align: top;\n",
       "    }\n",
       "\n",
       "    .dataframe thead th {\n",
       "        text-align: right;\n",
       "    }\n",
       "</style>\n",
       "<table border=\"1\" class=\"dataframe\">\n",
       "  <thead>\n",
       "    <tr style=\"text-align: right;\">\n",
       "      <th></th>\n",
       "      <th>player_name</th>\n",
       "      <th>player_api_id</th>\n",
       "      <th>date</th>\n",
       "      <th>overall_rating</th>\n",
       "      <th>aggression</th>\n",
       "      <th>height</th>\n",
       "      <th>weight</th>\n",
       "    </tr>\n",
       "  </thead>\n",
       "  <tbody>\n",
       "    <tr>\n",
       "      <th>0</th>\n",
       "      <td>Aaron Appindangoye</td>\n",
       "      <td>505942</td>\n",
       "      <td>2016-02-18 00:00:00</td>\n",
       "      <td>67.0</td>\n",
       "      <td>71.0</td>\n",
       "      <td>182.88</td>\n",
       "      <td>187</td>\n",
       "    </tr>\n",
       "    <tr>\n",
       "      <th>1</th>\n",
       "      <td>Aaron Appindangoye</td>\n",
       "      <td>505942</td>\n",
       "      <td>2015-11-19 00:00:00</td>\n",
       "      <td>67.0</td>\n",
       "      <td>71.0</td>\n",
       "      <td>182.88</td>\n",
       "      <td>187</td>\n",
       "    </tr>\n",
       "    <tr>\n",
       "      <th>2</th>\n",
       "      <td>Aaron Appindangoye</td>\n",
       "      <td>505942</td>\n",
       "      <td>2015-09-21 00:00:00</td>\n",
       "      <td>62.0</td>\n",
       "      <td>63.0</td>\n",
       "      <td>182.88</td>\n",
       "      <td>187</td>\n",
       "    </tr>\n",
       "    <tr>\n",
       "      <th>3</th>\n",
       "      <td>Aaron Appindangoye</td>\n",
       "      <td>505942</td>\n",
       "      <td>2015-03-20 00:00:00</td>\n",
       "      <td>61.0</td>\n",
       "      <td>62.0</td>\n",
       "      <td>182.88</td>\n",
       "      <td>187</td>\n",
       "    </tr>\n",
       "    <tr>\n",
       "      <th>4</th>\n",
       "      <td>Aaron Appindangoye</td>\n",
       "      <td>505942</td>\n",
       "      <td>2007-02-22 00:00:00</td>\n",
       "      <td>61.0</td>\n",
       "      <td>62.0</td>\n",
       "      <td>182.88</td>\n",
       "      <td>187</td>\n",
       "    </tr>\n",
       "  </tbody>\n",
       "</table>\n",
       "</div>"
      ],
      "text/plain": [
       "          player_name  player_api_id                 date  overall_rating  \\\n",
       "0  Aaron Appindangoye         505942  2016-02-18 00:00:00            67.0   \n",
       "1  Aaron Appindangoye         505942  2015-11-19 00:00:00            67.0   \n",
       "2  Aaron Appindangoye         505942  2015-09-21 00:00:00            62.0   \n",
       "3  Aaron Appindangoye         505942  2015-03-20 00:00:00            61.0   \n",
       "4  Aaron Appindangoye         505942  2007-02-22 00:00:00            61.0   \n",
       "\n",
       "   aggression  height  weight  \n",
       "0        71.0  182.88     187  \n",
       "1        71.0  182.88     187  \n",
       "2        63.0  182.88     187  \n",
       "3        62.0  182.88     187  \n",
       "4        62.0  182.88     187  "
      ]
     },
     "execution_count": 123,
     "metadata": {},
     "output_type": "execute_result"
    }
   ],
   "source": [
    "players_query = '''\n",
    "                SELECT DISTINCT player_name, p.player_api_id, date, overall_rating, aggression, height, weight\n",
    "                FROM player p JOIN player_attributes pa\n",
    "                ON p.player_api_id=pa.player_api_id;\n",
    "                '''\n",
    "\n",
    "with sqlite3.connect('database.sqlite') as con:\n",
    "    players = pd.read_sql_query(players_query, con)\n",
    "    \n",
    "players.head()    "
   ]
  },
  {
   "cell_type": "markdown",
   "metadata": {},
   "source": [
    "Analise the data looking for inconsistences (duplicates, missing values..)."
   ]
  },
  {
   "cell_type": "code",
   "execution_count": 124,
   "metadata": {},
   "outputs": [
    {
     "data": {
      "text/plain": [
       "172917"
      ]
     },
     "execution_count": 124,
     "metadata": {},
     "output_type": "execute_result"
    }
   ],
   "source": [
    "# There are some duplicated values that need to be cleaned.\n",
    "sum(players.duplicated(subset=['player_api_id']))"
   ]
  },
  {
   "cell_type": "code",
   "execution_count": 125,
   "metadata": {},
   "outputs": [
    {
     "data": {
      "text/plain": [
       "player_name       False\n",
       "player_api_id     False\n",
       "date              False\n",
       "overall_rating     True\n",
       "aggression         True\n",
       "height            False\n",
       "weight            False\n",
       "dtype: bool"
      ]
     },
     "execution_count": 125,
     "metadata": {},
     "output_type": "execute_result"
    }
   ],
   "source": [
    "# We also have some missing values.\n",
    "players.isnull().any()"
   ]
  },
  {
   "cell_type": "markdown",
   "metadata": {},
   "source": [
    "Another data need to answer the last question is about teams and matchs."
   ]
  },
  {
   "cell_type": "code",
   "execution_count": 40,
   "metadata": {},
   "outputs": [
    {
     "data": {
      "text/html": [
       "<div>\n",
       "<style scoped>\n",
       "    .dataframe tbody tr th:only-of-type {\n",
       "        vertical-align: middle;\n",
       "    }\n",
       "\n",
       "    .dataframe tbody tr th {\n",
       "        vertical-align: top;\n",
       "    }\n",
       "\n",
       "    .dataframe thead th {\n",
       "        text-align: right;\n",
       "    }\n",
       "</style>\n",
       "<table border=\"1\" class=\"dataframe\">\n",
       "  <thead>\n",
       "    <tr style=\"text-align: right;\">\n",
       "      <th></th>\n",
       "      <th>date</th>\n",
       "      <th>home_team_api_id</th>\n",
       "      <th>away_team_api_id</th>\n",
       "      <th>home_team_goal</th>\n",
       "      <th>away_team_goal</th>\n",
       "    </tr>\n",
       "  </thead>\n",
       "  <tbody>\n",
       "    <tr>\n",
       "      <th>0</th>\n",
       "      <td>2016-01-16 00:00:00</td>\n",
       "      <td>8342</td>\n",
       "      <td>274581</td>\n",
       "      <td>3</td>\n",
       "      <td>0</td>\n",
       "    </tr>\n",
       "    <tr>\n",
       "      <th>1</th>\n",
       "      <td>2016-01-17 00:00:00</td>\n",
       "      <td>9991</td>\n",
       "      <td>8635</td>\n",
       "      <td>2</td>\n",
       "      <td>0</td>\n",
       "    </tr>\n",
       "    <tr>\n",
       "      <th>2</th>\n",
       "      <td>2016-01-15 00:00:00</td>\n",
       "      <td>9987</td>\n",
       "      <td>10000</td>\n",
       "      <td>2</td>\n",
       "      <td>1</td>\n",
       "    </tr>\n",
       "    <tr>\n",
       "      <th>3</th>\n",
       "      <td>2016-01-17 00:00:00</td>\n",
       "      <td>8573</td>\n",
       "      <td>8475</td>\n",
       "      <td>3</td>\n",
       "      <td>3</td>\n",
       "    </tr>\n",
       "    <tr>\n",
       "      <th>4</th>\n",
       "      <td>2016-01-17 00:00:00</td>\n",
       "      <td>9994</td>\n",
       "      <td>9985</td>\n",
       "      <td>0</td>\n",
       "      <td>2</td>\n",
       "    </tr>\n",
       "  </tbody>\n",
       "</table>\n",
       "</div>"
      ],
      "text/plain": [
       "                  date  home_team_api_id  away_team_api_id  home_team_goal  \\\n",
       "0  2016-01-16 00:00:00              8342            274581               3   \n",
       "1  2016-01-17 00:00:00              9991              8635               2   \n",
       "2  2016-01-15 00:00:00              9987             10000               2   \n",
       "3  2016-01-17 00:00:00              8573              8475               3   \n",
       "4  2016-01-17 00:00:00              9994              9985               0   \n",
       "\n",
       "   away_team_goal  \n",
       "0               0  \n",
       "1               0  \n",
       "2               1  \n",
       "3               3  \n",
       "4               2  "
      ]
     },
     "execution_count": 40,
     "metadata": {},
     "output_type": "execute_result"
    }
   ],
   "source": [
    "match_query = '''\n",
    "                SELECT date, home_team_api_id, away_team_api_id, home_team_goal, away_team_goal\n",
    "                FROM Match\n",
    "                WHERE date like '2016%';\n",
    "                '''\n",
    "\n",
    "with sqlite3.connect('database.sqlite') as con:\n",
    "    match = pd.read_sql_query(match_query, con)\n",
    "    \n",
    "match.head()   "
   ]
  },
  {
   "cell_type": "code",
   "execution_count": 41,
   "metadata": {},
   "outputs": [
    {
     "data": {
      "text/html": [
       "<div>\n",
       "<style scoped>\n",
       "    .dataframe tbody tr th:only-of-type {\n",
       "        vertical-align: middle;\n",
       "    }\n",
       "\n",
       "    .dataframe tbody tr th {\n",
       "        vertical-align: top;\n",
       "    }\n",
       "\n",
       "    .dataframe thead th {\n",
       "        text-align: right;\n",
       "    }\n",
       "</style>\n",
       "<table border=\"1\" class=\"dataframe\">\n",
       "  <thead>\n",
       "    <tr style=\"text-align: right;\">\n",
       "      <th></th>\n",
       "      <th>date</th>\n",
       "      <th>team_api_id</th>\n",
       "      <th>buildUpPlaySpeed</th>\n",
       "      <th>buildUpPlayDribbling</th>\n",
       "      <th>buildUpPlayPassing</th>\n",
       "    </tr>\n",
       "  </thead>\n",
       "  <tbody>\n",
       "    <tr>\n",
       "      <th>0</th>\n",
       "      <td>2015-09-10 00:00:00</td>\n",
       "      <td>9930</td>\n",
       "      <td>47</td>\n",
       "      <td>41.0</td>\n",
       "      <td>54</td>\n",
       "    </tr>\n",
       "    <tr>\n",
       "      <th>1</th>\n",
       "      <td>2015-09-10 00:00:00</td>\n",
       "      <td>8485</td>\n",
       "      <td>59</td>\n",
       "      <td>64.0</td>\n",
       "      <td>53</td>\n",
       "    </tr>\n",
       "    <tr>\n",
       "      <th>2</th>\n",
       "      <td>2015-09-10 00:00:00</td>\n",
       "      <td>8576</td>\n",
       "      <td>59</td>\n",
       "      <td>57.0</td>\n",
       "      <td>52</td>\n",
       "    </tr>\n",
       "    <tr>\n",
       "      <th>3</th>\n",
       "      <td>2015-09-10 00:00:00</td>\n",
       "      <td>8564</td>\n",
       "      <td>48</td>\n",
       "      <td>70.0</td>\n",
       "      <td>52</td>\n",
       "    </tr>\n",
       "    <tr>\n",
       "      <th>4</th>\n",
       "      <td>2015-09-10 00:00:00</td>\n",
       "      <td>10215</td>\n",
       "      <td>53</td>\n",
       "      <td>53.0</td>\n",
       "      <td>44</td>\n",
       "    </tr>\n",
       "  </tbody>\n",
       "</table>\n",
       "</div>"
      ],
      "text/plain": [
       "                  date  team_api_id  buildUpPlaySpeed  buildUpPlayDribbling  \\\n",
       "0  2015-09-10 00:00:00         9930                47                  41.0   \n",
       "1  2015-09-10 00:00:00         8485                59                  64.0   \n",
       "2  2015-09-10 00:00:00         8576                59                  57.0   \n",
       "3  2015-09-10 00:00:00         8564                48                  70.0   \n",
       "4  2015-09-10 00:00:00        10215                53                  53.0   \n",
       "\n",
       "   buildUpPlayPassing  \n",
       "0                  54  \n",
       "1                  53  \n",
       "2                  52  \n",
       "3                  52  \n",
       "4                  44  "
      ]
     },
     "execution_count": 41,
     "metadata": {},
     "output_type": "execute_result"
    }
   ],
   "source": [
    "team_query = '''\n",
    "                SELECT date, team_api_id, buildUpPlaySpeed, buildUpPlayDribbling, buildUpPlayPassing\n",
    "                FROM Team_Attributes ORDER BY date DESC;\n",
    "                '''\n",
    "\n",
    "with sqlite3.connect('database.sqlite') as con:\n",
    "    team = pd.read_sql_query(team_query, con)\n",
    "    \n",
    "team.head()  "
   ]
  },
  {
   "cell_type": "markdown",
   "metadata": {},
   "source": [
    "We will genarate another table the make the analysis easier. The final data frame will have the difference of the home and aways teams on goals and attributes."
   ]
  },
  {
   "cell_type": "code",
   "execution_count": 42,
   "metadata": {},
   "outputs": [
    {
     "data": {
      "text/html": [
       "<div>\n",
       "<style scoped>\n",
       "    .dataframe tbody tr th:only-of-type {\n",
       "        vertical-align: middle;\n",
       "    }\n",
       "\n",
       "    .dataframe tbody tr th {\n",
       "        vertical-align: top;\n",
       "    }\n",
       "\n",
       "    .dataframe thead th {\n",
       "        text-align: right;\n",
       "    }\n",
       "</style>\n",
       "<table border=\"1\" class=\"dataframe\">\n",
       "  <thead>\n",
       "    <tr style=\"text-align: right;\">\n",
       "      <th></th>\n",
       "      <th>date_x</th>\n",
       "      <th>home_team_api_id</th>\n",
       "      <th>away_team_api_id</th>\n",
       "      <th>home_team_goal</th>\n",
       "      <th>away_team_goal</th>\n",
       "      <th>date_y</th>\n",
       "      <th>team_api_id</th>\n",
       "      <th>buildUpPlaySpeed</th>\n",
       "      <th>buildUpPlayDribbling</th>\n",
       "      <th>buildUpPlayPassing</th>\n",
       "    </tr>\n",
       "  </thead>\n",
       "  <tbody>\n",
       "    <tr>\n",
       "      <th>0</th>\n",
       "      <td>2016-01-16 00:00:00</td>\n",
       "      <td>8342</td>\n",
       "      <td>274581</td>\n",
       "      <td>3</td>\n",
       "      <td>0</td>\n",
       "      <td>2015-09-10 00:00:00</td>\n",
       "      <td>8342.0</td>\n",
       "      <td>42.0</td>\n",
       "      <td>52.0</td>\n",
       "      <td>45.0</td>\n",
       "    </tr>\n",
       "    <tr>\n",
       "      <th>1</th>\n",
       "      <td>2016-01-16 00:00:00</td>\n",
       "      <td>8342</td>\n",
       "      <td>274581</td>\n",
       "      <td>3</td>\n",
       "      <td>0</td>\n",
       "      <td>2014-09-19 00:00:00</td>\n",
       "      <td>8342.0</td>\n",
       "      <td>42.0</td>\n",
       "      <td>52.0</td>\n",
       "      <td>45.0</td>\n",
       "    </tr>\n",
       "    <tr>\n",
       "      <th>2</th>\n",
       "      <td>2016-01-16 00:00:00</td>\n",
       "      <td>8342</td>\n",
       "      <td>274581</td>\n",
       "      <td>3</td>\n",
       "      <td>0</td>\n",
       "      <td>2013-09-20 00:00:00</td>\n",
       "      <td>8342.0</td>\n",
       "      <td>45.0</td>\n",
       "      <td>NaN</td>\n",
       "      <td>48.0</td>\n",
       "    </tr>\n",
       "    <tr>\n",
       "      <th>3</th>\n",
       "      <td>2016-01-16 00:00:00</td>\n",
       "      <td>8342</td>\n",
       "      <td>274581</td>\n",
       "      <td>3</td>\n",
       "      <td>0</td>\n",
       "      <td>2012-02-22 00:00:00</td>\n",
       "      <td>8342.0</td>\n",
       "      <td>64.0</td>\n",
       "      <td>NaN</td>\n",
       "      <td>54.0</td>\n",
       "    </tr>\n",
       "    <tr>\n",
       "      <th>4</th>\n",
       "      <td>2016-01-16 00:00:00</td>\n",
       "      <td>8342</td>\n",
       "      <td>274581</td>\n",
       "      <td>3</td>\n",
       "      <td>0</td>\n",
       "      <td>2011-02-22 00:00:00</td>\n",
       "      <td>8342.0</td>\n",
       "      <td>67.0</td>\n",
       "      <td>NaN</td>\n",
       "      <td>47.0</td>\n",
       "    </tr>\n",
       "  </tbody>\n",
       "</table>\n",
       "</div>"
      ],
      "text/plain": [
       "                date_x  home_team_api_id  away_team_api_id  home_team_goal  \\\n",
       "0  2016-01-16 00:00:00              8342            274581               3   \n",
       "1  2016-01-16 00:00:00              8342            274581               3   \n",
       "2  2016-01-16 00:00:00              8342            274581               3   \n",
       "3  2016-01-16 00:00:00              8342            274581               3   \n",
       "4  2016-01-16 00:00:00              8342            274581               3   \n",
       "\n",
       "   away_team_goal               date_y  team_api_id  buildUpPlaySpeed  \\\n",
       "0               0  2015-09-10 00:00:00       8342.0              42.0   \n",
       "1               0  2014-09-19 00:00:00       8342.0              42.0   \n",
       "2               0  2013-09-20 00:00:00       8342.0              45.0   \n",
       "3               0  2012-02-22 00:00:00       8342.0              64.0   \n",
       "4               0  2011-02-22 00:00:00       8342.0              67.0   \n",
       "\n",
       "   buildUpPlayDribbling  buildUpPlayPassing  \n",
       "0                  52.0                45.0  \n",
       "1                  52.0                45.0  \n",
       "2                   NaN                48.0  \n",
       "3                   NaN                54.0  \n",
       "4                   NaN                47.0  "
      ]
     },
     "execution_count": 42,
     "metadata": {},
     "output_type": "execute_result"
    }
   ],
   "source": [
    "temp1 = match.merge(team, left_on='home_team_api_id', right_on='team_api_id', how='left')\n",
    "temp1.head()"
   ]
  },
  {
   "cell_type": "code",
   "execution_count": 43,
   "metadata": {},
   "outputs": [
    {
     "data": {
      "text/html": [
       "<div>\n",
       "<style scoped>\n",
       "    .dataframe tbody tr th:only-of-type {\n",
       "        vertical-align: middle;\n",
       "    }\n",
       "\n",
       "    .dataframe tbody tr th {\n",
       "        vertical-align: top;\n",
       "    }\n",
       "\n",
       "    .dataframe thead th {\n",
       "        text-align: right;\n",
       "    }\n",
       "</style>\n",
       "<table border=\"1\" class=\"dataframe\">\n",
       "  <thead>\n",
       "    <tr style=\"text-align: right;\">\n",
       "      <th></th>\n",
       "      <th>date_x</th>\n",
       "      <th>home_team_api_id</th>\n",
       "      <th>away_team_api_id</th>\n",
       "      <th>home_team_goal</th>\n",
       "      <th>away_team_goal</th>\n",
       "      <th>date_y</th>\n",
       "      <th>team_api_id_x</th>\n",
       "      <th>buildUpPlaySpeed_x</th>\n",
       "      <th>buildUpPlayDribbling_x</th>\n",
       "      <th>buildUpPlayPassing_x</th>\n",
       "      <th>date</th>\n",
       "      <th>team_api_id_y</th>\n",
       "      <th>buildUpPlaySpeed_y</th>\n",
       "      <th>buildUpPlayDribbling_y</th>\n",
       "      <th>buildUpPlayPassing_y</th>\n",
       "    </tr>\n",
       "  </thead>\n",
       "  <tbody>\n",
       "    <tr>\n",
       "      <th>0</th>\n",
       "      <td>2016-01-16 00:00:00</td>\n",
       "      <td>8342</td>\n",
       "      <td>274581</td>\n",
       "      <td>3</td>\n",
       "      <td>0</td>\n",
       "      <td>2015-09-10 00:00:00</td>\n",
       "      <td>8342.0</td>\n",
       "      <td>42.0</td>\n",
       "      <td>52.0</td>\n",
       "      <td>45.0</td>\n",
       "      <td>2015-09-10 00:00:00</td>\n",
       "      <td>274581.0</td>\n",
       "      <td>50.0</td>\n",
       "      <td>50.0</td>\n",
       "      <td>50.0</td>\n",
       "    </tr>\n",
       "    <tr>\n",
       "      <th>1</th>\n",
       "      <td>2016-01-16 00:00:00</td>\n",
       "      <td>8342</td>\n",
       "      <td>274581</td>\n",
       "      <td>3</td>\n",
       "      <td>0</td>\n",
       "      <td>2014-09-19 00:00:00</td>\n",
       "      <td>8342.0</td>\n",
       "      <td>42.0</td>\n",
       "      <td>52.0</td>\n",
       "      <td>45.0</td>\n",
       "      <td>2015-09-10 00:00:00</td>\n",
       "      <td>274581.0</td>\n",
       "      <td>50.0</td>\n",
       "      <td>50.0</td>\n",
       "      <td>50.0</td>\n",
       "    </tr>\n",
       "    <tr>\n",
       "      <th>2</th>\n",
       "      <td>2016-01-16 00:00:00</td>\n",
       "      <td>8342</td>\n",
       "      <td>274581</td>\n",
       "      <td>3</td>\n",
       "      <td>0</td>\n",
       "      <td>2013-09-20 00:00:00</td>\n",
       "      <td>8342.0</td>\n",
       "      <td>45.0</td>\n",
       "      <td>NaN</td>\n",
       "      <td>48.0</td>\n",
       "      <td>2015-09-10 00:00:00</td>\n",
       "      <td>274581.0</td>\n",
       "      <td>50.0</td>\n",
       "      <td>50.0</td>\n",
       "      <td>50.0</td>\n",
       "    </tr>\n",
       "    <tr>\n",
       "      <th>3</th>\n",
       "      <td>2016-01-16 00:00:00</td>\n",
       "      <td>8342</td>\n",
       "      <td>274581</td>\n",
       "      <td>3</td>\n",
       "      <td>0</td>\n",
       "      <td>2012-02-22 00:00:00</td>\n",
       "      <td>8342.0</td>\n",
       "      <td>64.0</td>\n",
       "      <td>NaN</td>\n",
       "      <td>54.0</td>\n",
       "      <td>2015-09-10 00:00:00</td>\n",
       "      <td>274581.0</td>\n",
       "      <td>50.0</td>\n",
       "      <td>50.0</td>\n",
       "      <td>50.0</td>\n",
       "    </tr>\n",
       "    <tr>\n",
       "      <th>4</th>\n",
       "      <td>2016-01-16 00:00:00</td>\n",
       "      <td>8342</td>\n",
       "      <td>274581</td>\n",
       "      <td>3</td>\n",
       "      <td>0</td>\n",
       "      <td>2011-02-22 00:00:00</td>\n",
       "      <td>8342.0</td>\n",
       "      <td>67.0</td>\n",
       "      <td>NaN</td>\n",
       "      <td>47.0</td>\n",
       "      <td>2015-09-10 00:00:00</td>\n",
       "      <td>274581.0</td>\n",
       "      <td>50.0</td>\n",
       "      <td>50.0</td>\n",
       "      <td>50.0</td>\n",
       "    </tr>\n",
       "  </tbody>\n",
       "</table>\n",
       "</div>"
      ],
      "text/plain": [
       "                date_x  home_team_api_id  away_team_api_id  home_team_goal  \\\n",
       "0  2016-01-16 00:00:00              8342            274581               3   \n",
       "1  2016-01-16 00:00:00              8342            274581               3   \n",
       "2  2016-01-16 00:00:00              8342            274581               3   \n",
       "3  2016-01-16 00:00:00              8342            274581               3   \n",
       "4  2016-01-16 00:00:00              8342            274581               3   \n",
       "\n",
       "   away_team_goal               date_y  team_api_id_x  buildUpPlaySpeed_x  \\\n",
       "0               0  2015-09-10 00:00:00         8342.0                42.0   \n",
       "1               0  2014-09-19 00:00:00         8342.0                42.0   \n",
       "2               0  2013-09-20 00:00:00         8342.0                45.0   \n",
       "3               0  2012-02-22 00:00:00         8342.0                64.0   \n",
       "4               0  2011-02-22 00:00:00         8342.0                67.0   \n",
       "\n",
       "   buildUpPlayDribbling_x  buildUpPlayPassing_x                 date  \\\n",
       "0                    52.0                  45.0  2015-09-10 00:00:00   \n",
       "1                    52.0                  45.0  2015-09-10 00:00:00   \n",
       "2                     NaN                  48.0  2015-09-10 00:00:00   \n",
       "3                     NaN                  54.0  2015-09-10 00:00:00   \n",
       "4                     NaN                  47.0  2015-09-10 00:00:00   \n",
       "\n",
       "   team_api_id_y  buildUpPlaySpeed_y  buildUpPlayDribbling_y  \\\n",
       "0       274581.0                50.0                    50.0   \n",
       "1       274581.0                50.0                    50.0   \n",
       "2       274581.0                50.0                    50.0   \n",
       "3       274581.0                50.0                    50.0   \n",
       "4       274581.0                50.0                    50.0   \n",
       "\n",
       "   buildUpPlayPassing_y  \n",
       "0                  50.0  \n",
       "1                  50.0  \n",
       "2                  50.0  \n",
       "3                  50.0  \n",
       "4                  50.0  "
      ]
     },
     "execution_count": 43,
     "metadata": {},
     "output_type": "execute_result"
    }
   ],
   "source": [
    "temp2 = temp1.merge(team, left_on='away_team_api_id', right_on='team_api_id', how='left')\n",
    "temp2.head()"
   ]
  },
  {
   "cell_type": "code",
   "execution_count": 44,
   "metadata": {},
   "outputs": [
    {
     "data": {
      "text/html": [
       "<div>\n",
       "<style scoped>\n",
       "    .dataframe tbody tr th:only-of-type {\n",
       "        vertical-align: middle;\n",
       "    }\n",
       "\n",
       "    .dataframe tbody tr th {\n",
       "        vertical-align: top;\n",
       "    }\n",
       "\n",
       "    .dataframe thead th {\n",
       "        text-align: right;\n",
       "    }\n",
       "</style>\n",
       "<table border=\"1\" class=\"dataframe\">\n",
       "  <thead>\n",
       "    <tr style=\"text-align: right;\">\n",
       "      <th></th>\n",
       "      <th>home_team_goal</th>\n",
       "      <th>away_team_goal</th>\n",
       "      <th>buildUpPlaySpeed_x</th>\n",
       "      <th>buildUpPlayDribbling_x</th>\n",
       "      <th>buildUpPlayPassing_x</th>\n",
       "      <th>buildUpPlaySpeed_y</th>\n",
       "      <th>buildUpPlayDribbling_y</th>\n",
       "      <th>buildUpPlayPassing_y</th>\n",
       "    </tr>\n",
       "  </thead>\n",
       "  <tbody>\n",
       "    <tr>\n",
       "      <th>0</th>\n",
       "      <td>3</td>\n",
       "      <td>0</td>\n",
       "      <td>42.0</td>\n",
       "      <td>52.0</td>\n",
       "      <td>45.0</td>\n",
       "      <td>50.0</td>\n",
       "      <td>50.0</td>\n",
       "      <td>50.0</td>\n",
       "    </tr>\n",
       "    <tr>\n",
       "      <th>1</th>\n",
       "      <td>3</td>\n",
       "      <td>0</td>\n",
       "      <td>42.0</td>\n",
       "      <td>52.0</td>\n",
       "      <td>45.0</td>\n",
       "      <td>50.0</td>\n",
       "      <td>50.0</td>\n",
       "      <td>50.0</td>\n",
       "    </tr>\n",
       "    <tr>\n",
       "      <th>2</th>\n",
       "      <td>3</td>\n",
       "      <td>0</td>\n",
       "      <td>45.0</td>\n",
       "      <td>NaN</td>\n",
       "      <td>48.0</td>\n",
       "      <td>50.0</td>\n",
       "      <td>50.0</td>\n",
       "      <td>50.0</td>\n",
       "    </tr>\n",
       "    <tr>\n",
       "      <th>3</th>\n",
       "      <td>3</td>\n",
       "      <td>0</td>\n",
       "      <td>64.0</td>\n",
       "      <td>NaN</td>\n",
       "      <td>54.0</td>\n",
       "      <td>50.0</td>\n",
       "      <td>50.0</td>\n",
       "      <td>50.0</td>\n",
       "    </tr>\n",
       "    <tr>\n",
       "      <th>4</th>\n",
       "      <td>3</td>\n",
       "      <td>0</td>\n",
       "      <td>67.0</td>\n",
       "      <td>NaN</td>\n",
       "      <td>47.0</td>\n",
       "      <td>50.0</td>\n",
       "      <td>50.0</td>\n",
       "      <td>50.0</td>\n",
       "    </tr>\n",
       "  </tbody>\n",
       "</table>\n",
       "</div>"
      ],
      "text/plain": [
       "   home_team_goal  away_team_goal  buildUpPlaySpeed_x  buildUpPlayDribbling_x  \\\n",
       "0               3               0                42.0                    52.0   \n",
       "1               3               0                42.0                    52.0   \n",
       "2               3               0                45.0                     NaN   \n",
       "3               3               0                64.0                     NaN   \n",
       "4               3               0                67.0                     NaN   \n",
       "\n",
       "   buildUpPlayPassing_x  buildUpPlaySpeed_y  buildUpPlayDribbling_y  \\\n",
       "0                  45.0                50.0                    50.0   \n",
       "1                  45.0                50.0                    50.0   \n",
       "2                  48.0                50.0                    50.0   \n",
       "3                  54.0                50.0                    50.0   \n",
       "4                  47.0                50.0                    50.0   \n",
       "\n",
       "   buildUpPlayPassing_y  \n",
       "0                  50.0  \n",
       "1                  50.0  \n",
       "2                  50.0  \n",
       "3                  50.0  \n",
       "4                  50.0  "
      ]
     },
     "execution_count": 44,
     "metadata": {},
     "output_type": "execute_result"
    }
   ],
   "source": [
    "temp3 = temp2[['home_team_goal', \n",
    "                        'away_team_goal', \n",
    "                        'buildUpPlaySpeed_x', \n",
    "                        'buildUpPlayDribbling_x', \n",
    "                        'buildUpPlayPassing_x', \n",
    "                        'buildUpPlaySpeed_y', \n",
    "                        'buildUpPlayDribbling_y', \n",
    "                        'buildUpPlayPassing_y',\n",
    "                       ]].copy()\n",
    "\n",
    "temp3.head()"
   ]
  },
  {
   "cell_type": "code",
   "execution_count": 45,
   "metadata": {},
   "outputs": [
    {
     "data": {
      "text/html": [
       "<div>\n",
       "<style scoped>\n",
       "    .dataframe tbody tr th:only-of-type {\n",
       "        vertical-align: middle;\n",
       "    }\n",
       "\n",
       "    .dataframe tbody tr th {\n",
       "        vertical-align: top;\n",
       "    }\n",
       "\n",
       "    .dataframe thead th {\n",
       "        text-align: right;\n",
       "    }\n",
       "</style>\n",
       "<table border=\"1\" class=\"dataframe\">\n",
       "  <thead>\n",
       "    <tr style=\"text-align: right;\">\n",
       "      <th></th>\n",
       "      <th>home_team_goal</th>\n",
       "      <th>away_team_goal</th>\n",
       "      <th>buildUpPlaySpeed_x</th>\n",
       "      <th>buildUpPlayDribbling_x</th>\n",
       "      <th>buildUpPlayPassing_x</th>\n",
       "      <th>buildUpPlaySpeed_y</th>\n",
       "      <th>buildUpPlayDribbling_y</th>\n",
       "      <th>buildUpPlayPassing_y</th>\n",
       "      <th>goals_diff</th>\n",
       "      <th>speed_diff</th>\n",
       "      <th>bribbling_diff</th>\n",
       "      <th>passing_diff</th>\n",
       "    </tr>\n",
       "  </thead>\n",
       "  <tbody>\n",
       "    <tr>\n",
       "      <th>0</th>\n",
       "      <td>3</td>\n",
       "      <td>0</td>\n",
       "      <td>42.0</td>\n",
       "      <td>52.0</td>\n",
       "      <td>45.0</td>\n",
       "      <td>50.0</td>\n",
       "      <td>50.0</td>\n",
       "      <td>50.0</td>\n",
       "      <td>3</td>\n",
       "      <td>-8.0</td>\n",
       "      <td>2.0</td>\n",
       "      <td>-5.0</td>\n",
       "    </tr>\n",
       "    <tr>\n",
       "      <th>1</th>\n",
       "      <td>3</td>\n",
       "      <td>0</td>\n",
       "      <td>42.0</td>\n",
       "      <td>52.0</td>\n",
       "      <td>45.0</td>\n",
       "      <td>50.0</td>\n",
       "      <td>50.0</td>\n",
       "      <td>50.0</td>\n",
       "      <td>3</td>\n",
       "      <td>-8.0</td>\n",
       "      <td>2.0</td>\n",
       "      <td>-5.0</td>\n",
       "    </tr>\n",
       "    <tr>\n",
       "      <th>2</th>\n",
       "      <td>3</td>\n",
       "      <td>0</td>\n",
       "      <td>45.0</td>\n",
       "      <td>NaN</td>\n",
       "      <td>48.0</td>\n",
       "      <td>50.0</td>\n",
       "      <td>50.0</td>\n",
       "      <td>50.0</td>\n",
       "      <td>3</td>\n",
       "      <td>-5.0</td>\n",
       "      <td>NaN</td>\n",
       "      <td>-2.0</td>\n",
       "    </tr>\n",
       "    <tr>\n",
       "      <th>3</th>\n",
       "      <td>3</td>\n",
       "      <td>0</td>\n",
       "      <td>64.0</td>\n",
       "      <td>NaN</td>\n",
       "      <td>54.0</td>\n",
       "      <td>50.0</td>\n",
       "      <td>50.0</td>\n",
       "      <td>50.0</td>\n",
       "      <td>3</td>\n",
       "      <td>14.0</td>\n",
       "      <td>NaN</td>\n",
       "      <td>4.0</td>\n",
       "    </tr>\n",
       "    <tr>\n",
       "      <th>4</th>\n",
       "      <td>3</td>\n",
       "      <td>0</td>\n",
       "      <td>67.0</td>\n",
       "      <td>NaN</td>\n",
       "      <td>47.0</td>\n",
       "      <td>50.0</td>\n",
       "      <td>50.0</td>\n",
       "      <td>50.0</td>\n",
       "      <td>3</td>\n",
       "      <td>17.0</td>\n",
       "      <td>NaN</td>\n",
       "      <td>-3.0</td>\n",
       "    </tr>\n",
       "  </tbody>\n",
       "</table>\n",
       "</div>"
      ],
      "text/plain": [
       "   home_team_goal  away_team_goal  buildUpPlaySpeed_x  buildUpPlayDribbling_x  \\\n",
       "0               3               0                42.0                    52.0   \n",
       "1               3               0                42.0                    52.0   \n",
       "2               3               0                45.0                     NaN   \n",
       "3               3               0                64.0                     NaN   \n",
       "4               3               0                67.0                     NaN   \n",
       "\n",
       "   buildUpPlayPassing_x  buildUpPlaySpeed_y  buildUpPlayDribbling_y  \\\n",
       "0                  45.0                50.0                    50.0   \n",
       "1                  45.0                50.0                    50.0   \n",
       "2                  48.0                50.0                    50.0   \n",
       "3                  54.0                50.0                    50.0   \n",
       "4                  47.0                50.0                    50.0   \n",
       "\n",
       "   buildUpPlayPassing_y  goals_diff  speed_diff  bribbling_diff  passing_diff  \n",
       "0                  50.0           3        -8.0             2.0          -5.0  \n",
       "1                  50.0           3        -8.0             2.0          -5.0  \n",
       "2                  50.0           3        -5.0             NaN          -2.0  \n",
       "3                  50.0           3        14.0             NaN           4.0  \n",
       "4                  50.0           3        17.0             NaN          -3.0  "
      ]
     },
     "execution_count": 45,
     "metadata": {},
     "output_type": "execute_result"
    }
   ],
   "source": [
    "temp3['goals_diff'] = temp3['home_team_goal'] - temp3['away_team_goal']\n",
    "temp3['speed_diff'] = temp3['buildUpPlaySpeed_x'] - temp3['buildUpPlaySpeed_y']\n",
    "temp3['bribbling_diff'] = temp3['buildUpPlayDribbling_x'] - temp3['buildUpPlayDribbling_y']\n",
    "temp3['passing_diff'] = temp3['buildUpPlayPassing_x'] - temp3['buildUpPlayPassing_y']\n",
    "temp3.head()"
   ]
  },
  {
   "cell_type": "code",
   "execution_count": 46,
   "metadata": {},
   "outputs": [
    {
     "data": {
      "text/html": [
       "<div>\n",
       "<style scoped>\n",
       "    .dataframe tbody tr th:only-of-type {\n",
       "        vertical-align: middle;\n",
       "    }\n",
       "\n",
       "    .dataframe tbody tr th {\n",
       "        vertical-align: top;\n",
       "    }\n",
       "\n",
       "    .dataframe thead th {\n",
       "        text-align: right;\n",
       "    }\n",
       "</style>\n",
       "<table border=\"1\" class=\"dataframe\">\n",
       "  <thead>\n",
       "    <tr style=\"text-align: right;\">\n",
       "      <th></th>\n",
       "      <th>goals_diff</th>\n",
       "      <th>speed_diff</th>\n",
       "      <th>bribbling_diff</th>\n",
       "      <th>passing_diff</th>\n",
       "    </tr>\n",
       "  </thead>\n",
       "  <tbody>\n",
       "    <tr>\n",
       "      <th>0</th>\n",
       "      <td>3</td>\n",
       "      <td>-8.0</td>\n",
       "      <td>2.0</td>\n",
       "      <td>-5.0</td>\n",
       "    </tr>\n",
       "    <tr>\n",
       "      <th>1</th>\n",
       "      <td>3</td>\n",
       "      <td>-8.0</td>\n",
       "      <td>2.0</td>\n",
       "      <td>-5.0</td>\n",
       "    </tr>\n",
       "    <tr>\n",
       "      <th>2</th>\n",
       "      <td>3</td>\n",
       "      <td>-5.0</td>\n",
       "      <td>NaN</td>\n",
       "      <td>-2.0</td>\n",
       "    </tr>\n",
       "    <tr>\n",
       "      <th>3</th>\n",
       "      <td>3</td>\n",
       "      <td>14.0</td>\n",
       "      <td>NaN</td>\n",
       "      <td>4.0</td>\n",
       "    </tr>\n",
       "    <tr>\n",
       "      <th>4</th>\n",
       "      <td>3</td>\n",
       "      <td>17.0</td>\n",
       "      <td>NaN</td>\n",
       "      <td>-3.0</td>\n",
       "    </tr>\n",
       "  </tbody>\n",
       "</table>\n",
       "</div>"
      ],
      "text/plain": [
       "   goals_diff  speed_diff  bribbling_diff  passing_diff\n",
       "0           3        -8.0             2.0          -5.0\n",
       "1           3        -8.0             2.0          -5.0\n",
       "2           3        -5.0             NaN          -2.0\n",
       "3           3        14.0             NaN           4.0\n",
       "4           3        17.0             NaN          -3.0"
      ]
     },
     "execution_count": 46,
     "metadata": {},
     "output_type": "execute_result"
    }
   ],
   "source": [
    "complete_match = temp3[['goals_diff', 'speed_diff', 'bribbling_diff', 'passing_diff']].copy()\n",
    "complete_match.head()"
   ]
  },
  {
   "cell_type": "code",
   "execution_count": null,
   "metadata": {},
   "outputs": [],
   "source": [
    "We will need some clean to remove null values."
   ]
  },
  {
   "cell_type": "code",
   "execution_count": 38,
   "metadata": {},
   "outputs": [
    {
     "data": {
      "text/plain": [
       "goals_diff        False\n",
       "speed_diff         True\n",
       "bribbling_diff     True\n",
       "passing_diff       True\n",
       "dtype: bool"
      ]
     },
     "execution_count": 38,
     "metadata": {},
     "output_type": "execute_result"
    }
   ],
   "source": [
    "complete_match.isnull().any()"
   ]
  },
  {
   "cell_type": "markdown",
   "metadata": {},
   "source": [
    "### Data Cleaning"
   ]
  },
  {
   "cell_type": "code",
   "execution_count": null,
   "metadata": {},
   "outputs": [],
   "source": [
    "We will remove the duplicated values keeping the first ones because they are the most updated ones."
   ]
  },
  {
   "cell_type": "code",
   "execution_count": 126,
   "metadata": {},
   "outputs": [
    {
     "data": {
      "text/plain": [
       "0"
      ]
     },
     "execution_count": 126,
     "metadata": {},
     "output_type": "execute_result"
    }
   ],
   "source": [
    "players.drop_duplicates(subset=['player_api_id'], inplace=True)\n",
    "sum(players.duplicated(subset=['player_api_id']))"
   ]
  },
  {
   "cell_type": "markdown",
   "metadata": {},
   "source": [
    "As we found that there are some missing values, we will remove it."
   ]
  },
  {
   "cell_type": "code",
   "execution_count": 127,
   "metadata": {},
   "outputs": [
    {
     "data": {
      "text/plain": [
       "player_name       False\n",
       "player_api_id     False\n",
       "date              False\n",
       "overall_rating    False\n",
       "aggression        False\n",
       "height            False\n",
       "weight            False\n",
       "dtype: bool"
      ]
     },
     "execution_count": 127,
     "metadata": {},
     "output_type": "execute_result"
    }
   ],
   "source": [
    "players.dropna(inplace=True)\n",
    "players.isnull().any()"
   ]
  },
  {
   "cell_type": "markdown",
   "metadata": {},
   "source": [
    "For the matchs we will get only the most update data that will correspond to 2016 matchs."
   ]
  },
  {
   "cell_type": "code",
   "execution_count": 23,
   "metadata": {},
   "outputs": [
    {
     "data": {
      "text/plain": [
       "0"
      ]
     },
     "execution_count": 23,
     "metadata": {},
     "output_type": "execute_result"
    }
   ],
   "source": [
    "team.drop_duplicates(subset=['team_api_id'], inplace=True)\n",
    "sum(team.duplicated(subset=['team_api_id']))"
   ]
  },
  {
   "cell_type": "markdown",
   "metadata": {},
   "source": [
    "Now we will clean the matchs."
   ]
  },
  {
   "cell_type": "code",
   "execution_count": 48,
   "metadata": {},
   "outputs": [
    {
     "data": {
      "text/plain": [
       "goals_diff        False\n",
       "speed_diff        False\n",
       "bribbling_diff    False\n",
       "passing_diff      False\n",
       "dtype: bool"
      ]
     },
     "execution_count": 48,
     "metadata": {},
     "output_type": "execute_result"
    }
   ],
   "source": [
    "complete_match.dropna(inplace=True)\n",
    "complete_match.isnull().any()"
   ]
  },
  {
   "cell_type": "markdown",
   "metadata": {},
   "source": [
    "<a id='eda'></a>\n",
    "## Exploratory Data Analysis\n",
    "\n",
    "### Who are the best players on Europe?"
   ]
  },
  {
   "cell_type": "markdown",
   "metadata": {},
   "source": [
    "To answer this question we will use the rating number providade by each players. The most recent rating will be considered."
   ]
  },
  {
   "cell_type": "code",
   "execution_count": 110,
   "metadata": {},
   "outputs": [],
   "source": [
    "# Sorting by rating and geting the the important values\n",
    "top_players_rating = players.sort_values(by=['overall_rating'], ascending=False)[:5][['player_name', 'overall_rating']]"
   ]
  },
  {
   "cell_type": "code",
   "execution_count": 111,
   "metadata": {},
   "outputs": [
    {
     "data": {
      "image/png": "[encoded data removed]",
      "text/plain": [
       "<Figure size 432x288 with 1 Axes>"
      ]
     },
     "metadata": {},
     "output_type": "display_data"
    }
   ],
   "source": [
    "# Ploting player vs ratings\n",
    "sns.set_theme(style='whitegrid')\n",
    "fig = sns.barplot(x='player_name', y='overall_rating', data=top_players_rating)\n",
    "plt.setp(fig.get_xticklabels(), rotation=90)\n",
    "plt.ylim(80, 96)\n",
    "fig.set(xlabel='Player', ylabel='Rating', title='Best Players on Europe');"
   ]
  },
  {
   "cell_type": "markdown",
   "metadata": {},
   "source": [
    "### Who are the player with higher aggression rating?"
   ]
  },
  {
   "cell_type": "code",
   "execution_count": 112,
   "metadata": {},
   "outputs": [],
   "source": [
    "# Sorting by agression and geting the the important values\n",
    "top_players_aggression = players.sort_values(by=['aggression'], ascending=False)[:5][['player_name', 'aggression']]"
   ]
  },
  {
   "cell_type": "code",
   "execution_count": 118,
   "metadata": {},
   "outputs": [
    {
     "data": {
      "image/png": "[encoded data removed]",
      "text/plain": [
       "<Figure size 432x288 with 1 Axes>"
      ]
     },
     "metadata": {},
     "output_type": "display_data"
    }
   ],
   "source": [
    "# Ploting player vs aggression\n",
    "sns.set_theme(style='whitegrid')\n",
    "fig = sns.barplot(x='player_name', y='aggression', data=top_players_aggression)\n",
    "plt.setp(fig.get_xticklabels(), rotation=90)\n",
    "plt.ylim(86, 96)\n",
    "fig.set(xlabel='Player', ylabel='Aggression', title='Players reated with more aggressiveness');"
   ]
  },
  {
   "cell_type": "markdown",
   "metadata": {},
   "source": [
    "### Is the player rating related to agressiveness?"
   ]
  },
  {
   "cell_type": "code",
   "execution_count": 122,
   "metadata": {},
   "outputs": [
    {
     "data": {
      "image/png": "[encoded data removed]",
      "text/plain": [
       "<Figure size 432x288 with 1 Axes>"
      ]
     },
     "metadata": {},
     "output_type": "display_data"
    }
   ],
   "source": [
    "# Ploting rating vs agression\n",
    "sns.set_theme(style='whitegrid')\n",
    "fig = sns.scatterplot(x=\"aggression\", y=\"overall_rating\", data=players)\n",
    "fig.set(xlabel='Aggression', ylabel='Rating', title='Aggresion vs Rating');"
   ]
  },
  {
   "cell_type": "markdown",
   "metadata": {},
   "source": [
    "For the data we didn't find any strong corelation for these two parameters. I was expecting to see some corelation here."
   ]
  },
  {
   "cell_type": "markdown",
   "metadata": {},
   "source": [
    "### How the players are distributed by their physical form (measured by the Body Mass Index)."
   ]
  },
  {
   "cell_type": "code",
   "execution_count": 140,
   "metadata": {},
   "outputs": [
    {
     "data": {
      "text/html": [
       "<div>\n",
       "<style scoped>\n",
       "    .dataframe tbody tr th:only-of-type {\n",
       "        vertical-align: middle;\n",
       "    }\n",
       "\n",
       "    .dataframe tbody tr th {\n",
       "        vertical-align: top;\n",
       "    }\n",
       "\n",
       "    .dataframe thead th {\n",
       "        text-align: right;\n",
       "    }\n",
       "</style>\n",
       "<table border=\"1\" class=\"dataframe\">\n",
       "  <thead>\n",
       "    <tr style=\"text-align: right;\">\n",
       "      <th></th>\n",
       "      <th>player_api_id</th>\n",
       "      <th>overall_rating</th>\n",
       "      <th>aggression</th>\n",
       "      <th>height</th>\n",
       "      <th>weight</th>\n",
       "      <th>BMI</th>\n",
       "    </tr>\n",
       "  </thead>\n",
       "  <tbody>\n",
       "    <tr>\n",
       "      <th>count</th>\n",
       "      <td>11060.000000</td>\n",
       "      <td>11060.000000</td>\n",
       "      <td>11060.000000</td>\n",
       "      <td>11060.000000</td>\n",
       "      <td>11060.000000</td>\n",
       "      <td>11060.000000</td>\n",
       "    </tr>\n",
       "    <tr>\n",
       "      <th>mean</th>\n",
       "      <td>156582.427215</td>\n",
       "      <td>67.961935</td>\n",
       "      <td>61.008951</td>\n",
       "      <td>181.867445</td>\n",
       "      <td>168.380289</td>\n",
       "      <td>23.061806</td>\n",
       "    </tr>\n",
       "    <tr>\n",
       "      <th>std</th>\n",
       "      <td>160713.700624</td>\n",
       "      <td>6.316694</td>\n",
       "      <td>16.254977</td>\n",
       "      <td>6.369201</td>\n",
       "      <td>14.990217</td>\n",
       "      <td>1.316878</td>\n",
       "    </tr>\n",
       "    <tr>\n",
       "      <th>min</th>\n",
       "      <td>2625.000000</td>\n",
       "      <td>42.000000</td>\n",
       "      <td>11.000000</td>\n",
       "      <td>157.480000</td>\n",
       "      <td>117.000000</td>\n",
       "      <td>17.586568</td>\n",
       "    </tr>\n",
       "    <tr>\n",
       "      <th>25%</th>\n",
       "      <td>35555.500000</td>\n",
       "      <td>64.000000</td>\n",
       "      <td>52.000000</td>\n",
       "      <td>177.800000</td>\n",
       "      <td>159.000000</td>\n",
       "      <td>22.170941</td>\n",
       "    </tr>\n",
       "    <tr>\n",
       "      <th>50%</th>\n",
       "      <td>96619.500000</td>\n",
       "      <td>68.000000</td>\n",
       "      <td>64.000000</td>\n",
       "      <td>182.880000</td>\n",
       "      <td>168.000000</td>\n",
       "      <td>23.051962</td>\n",
       "    </tr>\n",
       "    <tr>\n",
       "      <th>75%</th>\n",
       "      <td>212470.500000</td>\n",
       "      <td>72.000000</td>\n",
       "      <td>73.000000</td>\n",
       "      <td>185.420000</td>\n",
       "      <td>179.000000</td>\n",
       "      <td>23.867438</td>\n",
       "    </tr>\n",
       "    <tr>\n",
       "      <th>max</th>\n",
       "      <td>750584.000000</td>\n",
       "      <td>94.000000</td>\n",
       "      <td>94.000000</td>\n",
       "      <td>208.280000</td>\n",
       "      <td>243.000000</td>\n",
       "      <td>30.860445</td>\n",
       "    </tr>\n",
       "  </tbody>\n",
       "</table>\n",
       "</div>"
      ],
      "text/plain": [
       "       player_api_id  overall_rating    aggression        height  \\\n",
       "count   11060.000000    11060.000000  11060.000000  11060.000000   \n",
       "mean   156582.427215       67.961935     61.008951    181.867445   \n",
       "std    160713.700624        6.316694     16.254977      6.369201   \n",
       "min      2625.000000       42.000000     11.000000    157.480000   \n",
       "25%     35555.500000       64.000000     52.000000    177.800000   \n",
       "50%     96619.500000       68.000000     64.000000    182.880000   \n",
       "75%    212470.500000       72.000000     73.000000    185.420000   \n",
       "max    750584.000000       94.000000     94.000000    208.280000   \n",
       "\n",
       "             weight           BMI  \n",
       "count  11060.000000  11060.000000  \n",
       "mean     168.380289     23.061806  \n",
       "std       14.990217      1.316878  \n",
       "min      117.000000     17.586568  \n",
       "25%      159.000000     22.170941  \n",
       "50%      168.000000     23.051962  \n",
       "75%      179.000000     23.867438  \n",
       "max      243.000000     30.860445  "
      ]
     },
     "execution_count": 140,
     "metadata": {},
     "output_type": "execute_result"
    }
   ],
   "source": [
    "players['BMI'] = (players['weight'] / 2.205) / ((players['height'] / 100) ** 2)\n",
    "players.describe()"
   ]
  },
  {
   "cell_type": "code",
   "execution_count": 138,
   "metadata": {},
   "outputs": [
    {
     "data": {
      "image/png": "[encoded data removed]",
      "text/plain": [
       "<Figure size 432x288 with 1 Axes>"
      ]
     },
     "metadata": {},
     "output_type": "display_data"
    }
   ],
   "source": [
    "players['BMI'].hist();"
   ]
  },
  {
   "cell_type": "markdown",
   "metadata": {},
   "source": [
    "By the BMI index, below 18.5 is under a healthy weight and above 30 is considered obesity.\n",
    "By this histogram we can see that professional soccer player in most cases have a good boddy structure."
   ]
  },
  {
   "cell_type": "markdown",
   "metadata": {},
   "source": [
    "### Teams playing at home won more matchs?"
   ]
  },
  {
   "cell_type": "markdown",
   "metadata": {},
   "source": [
    "To answer this question we can use the goals difference."
   ]
  },
  {
   "cell_type": "code",
   "execution_count": 53,
   "metadata": {},
   "outputs": [],
   "source": [
    "home_victory = complete_match.apply(lambda x: True if x['goals_diff'] > 0 else False , axis=1)\n",
    "numOfHomeVictory = len(home_victory[home_victory == True].index)\n",
    "\n",
    "away_victory = complete_match.apply(lambda x: True if x['goals_diff'] < 0 else False , axis=1)\n",
    "numOfAwayVictory = len(away_victory[away_victory == True].index)\n",
    "\n",
    "draws_game = complete_match.apply(lambda x: True if x['goals_diff'] == 0 else False , axis=1)\n",
    "numOfDraws = len(draws_game[draws_game == True].index)"
   ]
  },
  {
   "cell_type": "code",
   "execution_count": 62,
   "metadata": {},
   "outputs": [
    {
     "data": {
      "image/png": "[encoded data removed]",
      "text/plain": [
       "<Figure size 432x288 with 1 Axes>"
      ]
     },
     "metadata": {},
     "output_type": "display_data"
    }
   ],
   "source": [
    "labels = 'Home Victory', 'Draws Game', 'Away Victory'\n",
    "sizes = [numOfHomeVictory, numOfDraws, numOfAwayVictory]\n",
    "explode = (0.05, 0, 0)\n",
    "\n",
    "fig1, ax1 = plt.subplots()\n",
    "ax1.pie(sizes, explode=explode, labels=labels, autopct='%1.1f%%',\n",
    "        shadow=True, startangle=90)\n",
    "ax1.axis('equal')\n",
    "\n",
    "plt.show()"
   ]
  },
  {
   "cell_type": "markdown",
   "metadata": {},
   "source": [
    "In our data for 2016 the teams playing at home have won more. At least for the data remaning after the clean."
   ]
  },
  {
   "cell_type": "markdown",
   "metadata": {},
   "source": [
    "<a id='conclusions'></a>\n",
    "## Conclusions\n",
    "\n",
    "> **Tip**: Finally, summarize your findings and the results that have been performed. Make sure that you are clear with regards to the limitations of your exploration. If you haven't done any statistical tests, do not imply any statistical conclusions. And make sure you avoid implying causation from correlation!\n",
    "\n",
    "> **Tip**: Once you are satisfied with your work, you should save a copy of the report in HTML or PDF form via the **File** > **Download as** submenu. Before exporting your report, check over it to make sure that the flow of the report is complete. You should probably remove all of the \"Tip\" quotes like this one so that the presentation is as tidy as possible. Congratulations!"
   ]
  },
  {
   "cell_type": "code",
   "execution_count": null,
   "metadata": {},
   "outputs": [],
   "source": []
  }
 ],
 "metadata": {
  "kernelspec": {
   "display_name": "Python 3",
   "language": "python",
   "name": "python3"
  },
  "language_info": {
   "codemirror_mode": {
    "name": "ipython",
    "version": 3
   },
   "file_extension": ".py",
   "mimetype": "text/x-python",
   "name": "python",
   "nbconvert_exporter": "python",
   "pygments_lexer": "ipython3",
   "version": "3.8.5"
  }
 },
 "nbformat": 4,
 "nbformat_minor": 2
}
